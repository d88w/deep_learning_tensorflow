{
  "nbformat": 4,
  "nbformat_minor": 0,
  "metadata": {
    "colab": {
      "name": "015_forecast_time_series_w_Dense_layers.ipynb",
      "provenance": [],
      "collapsed_sections": [],
      "toc_visible": true
    },
    "kernelspec": {
      "name": "python3",
      "display_name": "Python 3"
    }
  },
  "cells": [
    {
      "cell_type": "markdown",
      "metadata": {
        "colab_type": "text",
        "id": "yHG6wUbvifuX"
      },
      "source": [
        "# Forecasting with machine learning"
      ]
    },
    {
      "cell_type": "markdown",
      "metadata": {
        "colab_type": "text",
        "id": "bQNmSYMPh1TB"
      },
      "source": [
        "<table class=\"tfo-notebook-buttons\" align=\"left\">\n",
        "  <td>\n",
        "    <a target=\"_blank\" href=\"https://colab.research.google.com/github/tensorflow/examples/blob/master/courses/udacity_intro_to_tensorflow_for_deep_learning/l08c05_forecasting_with_machine_learning.ipynb\"><img src=\"https://www.tensorflow.org/images/colab_logo_32px.png\" />Run in Google Colab</a>\n",
        "  </td>\n",
        "  <td>\n",
        "    <a target=\"_blank\" href=\"https://github.com/tensorflow/examples/blob/master/courses/udacity_intro_to_tensorflow_for_deep_learning/l08c05_forecasting_with_machine_learning.ipynb\"><img src=\"https://www.tensorflow.org/images/GitHub-Mark-32px.png\" />View source on GitHub</a>\n",
        "  </td>\n",
        "</table>"
      ]
    },
    {
      "cell_type": "markdown",
      "metadata": {
        "colab_type": "text",
        "id": "vidayERjaO5q"
      },
      "source": [
        "## Setup"
      ]
    },
    {
      "cell_type": "code",
      "metadata": {
        "colab_type": "code",
        "id": "r-0CH4Izvu7Z",
        "colab": {}
      },
      "source": [
        "from __future__ import absolute_import, division, print_function, unicode_literals"
      ],
      "execution_count": 0,
      "outputs": []
    },
    {
      "cell_type": "code",
      "metadata": {
        "colab_type": "code",
        "id": "9DkS0h7G3Quk",
        "outputId": "e4eaff47-a682-4805-88f4-839d10488f2d",
        "colab": {
          "base_uri": "https://localhost:8080/",
          "height": 34
        }
      },
      "source": [
        "try:\n",
        "  # Use the %tensorflow_version magic if in colab.\n",
        "  %tensorflow_version 2.x\n",
        "except Exception:\n",
        "  pass"
      ],
      "execution_count": 0,
      "outputs": [
        {
          "output_type": "stream",
          "text": [
            "TensorFlow 2.x selected.\n"
          ],
          "name": "stdout"
        }
      ]
    },
    {
      "cell_type": "code",
      "metadata": {
        "colab_type": "code",
        "id": "gqWabzlJ63nL",
        "colab": {}
      },
      "source": [
        "import numpy as np\n",
        "import matplotlib.pyplot as plt\n",
        "import tensorflow as tf\n",
        "\n",
        "keras = tf.keras"
      ],
      "execution_count": 0,
      "outputs": []
    },
    {
      "cell_type": "code",
      "metadata": {
        "colab_type": "code",
        "id": "cg1hfKCPldZG",
        "colab": {}
      },
      "source": [
        "def plot_series(time, series, format=\"-\", start=0, end=None, label=None):\n",
        "    plt.plot(time[start:end], series[start:end], format, label=label)\n",
        "    plt.xlabel(\"Time\")\n",
        "    plt.ylabel(\"Value\")\n",
        "    if label:\n",
        "        plt.legend(fontsize=14)\n",
        "    plt.grid(True)\n",
        "    \n",
        "def trend(time, slope=0):\n",
        "    return slope * time\n",
        "  \n",
        "  \n",
        "def seasonal_pattern(season_time):\n",
        "    \"\"\"Just an arbitrary pattern, you can change it if you wish\"\"\"\n",
        "    return np.where(season_time < 0.4,\n",
        "                    np.cos(season_time * 2 * np.pi),\n",
        "                    1 / np.exp(3 * season_time))\n",
        "\n",
        "  \n",
        "def seasonality(time, period, amplitude=1, phase=0):\n",
        "    \"\"\"Repeats the same pattern at each period\"\"\"\n",
        "    season_time = ((time + phase) % period) / period\n",
        "    return amplitude * seasonal_pattern(season_time)\n",
        "  \n",
        "  \n",
        "def white_noise(time, noise_level=1, seed=None):\n",
        "    rnd = np.random.RandomState(seed)\n",
        "    return rnd.randn(len(time)) * noise_level"
      ],
      "execution_count": 0,
      "outputs": []
    },
    {
      "cell_type": "code",
      "metadata": {
        "colab_type": "code",
        "id": "iL2DDjV3lel6",
        "outputId": "a5779e89-b941-4fcf-df3a-8d32d6685e9e",
        "colab": {
          "base_uri": "https://localhost:8080/",
          "height": 388
        }
      },
      "source": [
        "time = np.arange(4 * 365 + 1)\n",
        "\n",
        "slope = 0.05\n",
        "baseline = 10\n",
        "amplitude = 40\n",
        "series = baseline + trend(time, slope) + seasonality(time, period=365, amplitude=amplitude)\n",
        "\n",
        "noise_level = 5\n",
        "noise = white_noise(time, noise_level, seed=42)\n",
        "\n",
        "series += noise\n",
        "\n",
        "plt.figure(figsize=(10, 6))\n",
        "plot_series(time, series)\n",
        "plt.show()"
      ],
      "execution_count": 0,
      "outputs": [
        {
          "output_type": "display_data",
          "data": {
            "image/png": "[encoded data removed]",
            "text/plain": [
              "<Figure size 720x432 with 1 Axes>"
            ]
          },
          "metadata": {
            "tags": []
          }
        }
      ]
    },
    {
      "cell_type": "markdown",
      "metadata": {
        "colab_type": "text",
        "id": "ViWVB9qd8OIR"
      },
      "source": [
        "## Forecasting with Machine Learning\n",
        "\n",
        "First, we will train a model to forecast the next step given the previous 20 steps, therefore, we need to create a dataset of 20-step windows for training."
      ]
    },
    {
      "cell_type": "code",
      "metadata": {
        "colab_type": "code",
        "id": "1tl-0BOKkEtk",
        "colab": {}
      },
      "source": [
        "# set up time window\n",
        "\n",
        "def window_dataset(series, window_size, batch_size=32,\n",
        "                   shuffle_buffer=1000):\n",
        "    dataset = tf.data.Dataset.from_tensor_slices(series)\n",
        "    dataset = dataset.window(window_size + 1, shift=1, drop_remainder=True)\n",
        "    dataset = dataset.flat_map(lambda window: window.batch(window_size + 1))\n",
        "    dataset = dataset.shuffle(shuffle_buffer)\n",
        "    dataset = dataset.map(lambda window: (window[:-1], window[-1]))\n",
        "    dataset = dataset.batch(batch_size).prefetch(1)\n",
        "    return dataset"
      ],
      "execution_count": 0,
      "outputs": []
    },
    {
      "cell_type": "code",
      "metadata": {
        "colab_type": "code",
        "id": "Zmp1JXKxk9Vb",
        "colab": {}
      },
      "source": [
        "# define train and validation period\n",
        "\n",
        "split_time = 1000\n",
        "time_train = time[:split_time]\n",
        "x_train = series[:split_time]\n",
        "time_valid = time[split_time:]\n",
        "x_valid = series[split_time:]"
      ],
      "execution_count": 0,
      "outputs": []
    },
    {
      "cell_type": "markdown",
      "metadata": {
        "colab_type": "text",
        "id": "T1IvwAFn8OIc"
      },
      "source": [
        "### Linear Model"
      ]
    },
    {
      "cell_type": "code",
      "metadata": {
        "colab_type": "code",
        "id": "ieOKdcEQ0A6k",
        "outputId": "1f69bb47-fe18-4b61-d77a-3c026b7e209d",
        "colab": {
          "base_uri": "https://localhost:8080/",
          "height": 1000
        }
      },
      "source": [
        "keras.backend.clear_session()\n",
        "tf.random.set_seed(42)\n",
        "np.random.seed(42)\n",
        "\n",
        "# set up train and valid sets as time windows\n",
        "window_size = 30\n",
        "train_set = window_dataset(x_train, window_size)\n",
        "valid_set = window_dataset(x_valid, window_size)\n",
        "\n",
        "# define model layers - 1 layer (linear)\n",
        "model = keras.models.Sequential([\n",
        "  keras.layers.Dense(1, input_shape=[window_size])\n",
        "])\n",
        "\n",
        "# define optimizer\n",
        "optimizer = keras.optimizers.SGD(lr=1e-5, momentum=0.9) # SGD = stochastic gradient descent optimizer\n",
        "\n",
        "# fit model\n",
        "model.compile(loss=keras.losses.Huber(),    # Huber loss is a good loss to use when you are interested in using the \"mae\"\n",
        "              optimizer=optimizer,\n",
        "              metrics=[\"mae\"])\n",
        "model.fit(train_set, epochs=100, validation_data=valid_set)"
      ],
      "execution_count": 0,
      "outputs": [
        {
          "output_type": "stream",
          "text": [
            "Epoch 1/100\n",
            "31/31 [==============================] - 1s 32ms/step - loss: 46.6127 - mae: 47.9542 - val_loss: 22.8934 - val_mae: 23.3670\n",
            "Epoch 2/100\n",
            "31/31 [==============================] - 0s 9ms/step - loss: 11.5051 - mae: 11.9459 - val_loss: 9.2357 - val_mae: 9.6871\n",
            "Epoch 3/100\n",
            "31/31 [==============================] - 0s 9ms/step - loss: 9.8460 - mae: 10.3805 - val_loss: 9.1530 - val_mae: 9.6008\n",
            "Epoch 4/100\n",
            "31/31 [==============================] - 0s 9ms/step - loss: 9.7397 - mae: 10.2880 - val_loss: 9.2402 - val_mae: 9.5627\n",
            "Epoch 5/100\n",
            "31/31 [==============================] - 0s 9ms/step - loss: 9.6098 - mae: 10.1772 - val_loss: 8.8791 - val_mae: 9.4029\n",
            "Epoch 6/100\n",
            "31/31 [==============================] - 0s 9ms/step - loss: 9.5544 - mae: 10.0866 - val_loss: 8.9816 - val_mae: 9.3764\n",
            "Epoch 7/100\n",
            "31/31 [==============================] - 0s 9ms/step - loss: 9.5411 - mae: 9.9598 - val_loss: 9.1477 - val_mae: 9.6448\n",
            "Epoch 8/100\n",
            "31/31 [==============================] - 0s 9ms/step - loss: 9.4851 - mae: 9.9422 - val_loss: 8.7311 - val_mae: 9.1497\n",
            "Epoch 9/100\n",
            "31/31 [==============================] - 0s 9ms/step - loss: 9.2665 - mae: 9.8119 - val_loss: 8.8546 - val_mae: 9.3354\n",
            "Epoch 10/100\n",
            "31/31 [==============================] - 0s 8ms/step - loss: 9.1176 - mae: 9.6605 - val_loss: 8.5426 - val_mae: 9.0899\n",
            "Epoch 11/100\n",
            "31/31 [==============================] - 0s 8ms/step - loss: 9.1549 - mae: 9.5409 - val_loss: 8.9611 - val_mae: 9.6144\n",
            "Epoch 12/100\n",
            "31/31 [==============================] - 0s 8ms/step - loss: 8.9512 - mae: 9.4910 - val_loss: 8.3247 - val_mae: 8.7871\n",
            "Epoch 13/100\n",
            "31/31 [==============================] - 0s 9ms/step - loss: 8.8332 - mae: 9.3872 - val_loss: 8.1997 - val_mae: 8.7302\n",
            "Epoch 14/100\n",
            "31/31 [==============================] - 0s 9ms/step - loss: 8.7356 - mae: 9.2432 - val_loss: 8.1176 - val_mae: 8.6369\n",
            "Epoch 15/100\n",
            "31/31 [==============================] - 0s 9ms/step - loss: 8.7119 - mae: 9.1426 - val_loss: 8.1161 - val_mae: 8.6082\n",
            "Epoch 16/100\n",
            "31/31 [==============================] - 0s 9ms/step - loss: 8.6283 - mae: 9.0912 - val_loss: 8.0115 - val_mae: 8.4647\n",
            "Epoch 17/100\n",
            "31/31 [==============================] - 0s 9ms/step - loss: 8.5352 - mae: 9.0146 - val_loss: 7.9018 - val_mae: 8.3889\n",
            "Epoch 18/100\n",
            "31/31 [==============================] - 0s 10ms/step - loss: 8.4385 - mae: 8.8838 - val_loss: 7.8439 - val_mae: 8.3067\n",
            "Epoch 19/100\n",
            "31/31 [==============================] - 0s 9ms/step - loss: 8.3318 - mae: 8.7835 - val_loss: 7.6570 - val_mae: 8.2369\n",
            "Epoch 20/100\n",
            "31/31 [==============================] - 0s 9ms/step - loss: 8.5737 - mae: 8.7729 - val_loss: 7.8061 - val_mae: 8.3250\n",
            "Epoch 21/100\n",
            "31/31 [==============================] - 0s 10ms/step - loss: 8.1467 - mae: 8.6799 - val_loss: 7.8912 - val_mae: 8.3775\n",
            "Epoch 22/100\n",
            "31/31 [==============================] - 0s 9ms/step - loss: 7.9580 - mae: 8.5173 - val_loss: 7.7146 - val_mae: 8.0249\n",
            "Epoch 23/100\n",
            "31/31 [==============================] - 0s 9ms/step - loss: 8.0981 - mae: 8.5123 - val_loss: 7.4875 - val_mae: 8.0241\n",
            "Epoch 24/100\n",
            "31/31 [==============================] - 0s 9ms/step - loss: 7.8785 - mae: 8.3764 - val_loss: 7.5182 - val_mae: 7.9389\n",
            "Epoch 25/100\n",
            "31/31 [==============================] - 0s 10ms/step - loss: 7.7999 - mae: 8.3485 - val_loss: 7.4287 - val_mae: 7.8362\n",
            "Epoch 26/100\n",
            "31/31 [==============================] - 0s 9ms/step - loss: 7.7945 - mae: 8.2245 - val_loss: 7.5423 - val_mae: 7.9082\n",
            "Epoch 27/100\n",
            "31/31 [==============================] - 0s 9ms/step - loss: 7.6860 - mae: 8.1787 - val_loss: 7.4901 - val_mae: 7.7869\n",
            "Epoch 28/100\n",
            "31/31 [==============================] - 0s 9ms/step - loss: 7.4584 - mae: 8.0543 - val_loss: 7.4811 - val_mae: 7.8965\n",
            "Epoch 29/100\n",
            "31/31 [==============================] - 0s 9ms/step - loss: 7.4329 - mae: 7.9952 - val_loss: 7.3368 - val_mae: 7.6857\n",
            "Epoch 30/100\n",
            "31/31 [==============================] - 0s 9ms/step - loss: 7.4352 - mae: 7.9338 - val_loss: 7.1814 - val_mae: 7.6461\n",
            "Epoch 31/100\n",
            "31/31 [==============================] - 0s 9ms/step - loss: 7.3034 - mae: 7.8347 - val_loss: 7.3299 - val_mae: 7.8801\n",
            "Epoch 32/100\n",
            "31/31 [==============================] - 0s 10ms/step - loss: 7.3150 - mae: 7.8155 - val_loss: 7.0163 - val_mae: 7.4639\n",
            "Epoch 33/100\n",
            "31/31 [==============================] - 0s 9ms/step - loss: 7.2097 - mae: 7.6849 - val_loss: 7.1127 - val_mae: 7.4108\n",
            "Epoch 34/100\n",
            "31/31 [==============================] - 0s 9ms/step - loss: 7.1468 - mae: 7.6849 - val_loss: 6.7834 - val_mae: 7.3680\n",
            "Epoch 35/100\n",
            "31/31 [==============================] - 0s 10ms/step - loss: 7.1133 - mae: 7.5731 - val_loss: 7.0126 - val_mae: 7.5712\n",
            "Epoch 36/100\n",
            "31/31 [==============================] - 0s 10ms/step - loss: 7.1183 - mae: 7.5424 - val_loss: 6.6977 - val_mae: 7.2341\n",
            "Epoch 37/100\n",
            "31/31 [==============================] - 0s 9ms/step - loss: 6.9736 - mae: 7.4698 - val_loss: 6.7660 - val_mae: 7.2993\n",
            "Epoch 38/100\n",
            "31/31 [==============================] - 0s 9ms/step - loss: 6.9065 - mae: 7.3897 - val_loss: 6.6870 - val_mae: 7.1210\n",
            "Epoch 39/100\n",
            "31/31 [==============================] - 0s 9ms/step - loss: 6.8967 - mae: 7.3467 - val_loss: 6.7620 - val_mae: 7.2326\n",
            "Epoch 40/100\n",
            "31/31 [==============================] - 0s 9ms/step - loss: 6.6941 - mae: 7.2490 - val_loss: 6.9749 - val_mae: 7.5261\n",
            "Epoch 41/100\n",
            "31/31 [==============================] - 0s 9ms/step - loss: 6.6664 - mae: 7.2129 - val_loss: 6.5955 - val_mae: 7.0717\n",
            "Epoch 42/100\n",
            "31/31 [==============================] - 0s 8ms/step - loss: 6.6713 - mae: 7.1823 - val_loss: 6.6620 - val_mae: 7.0698\n",
            "Epoch 43/100\n",
            "31/31 [==============================] - 0s 9ms/step - loss: 6.6650 - mae: 7.1058 - val_loss: 6.5818 - val_mae: 6.8937\n",
            "Epoch 44/100\n",
            "31/31 [==============================] - 0s 9ms/step - loss: 6.4863 - mae: 7.0235 - val_loss: 6.5852 - val_mae: 7.0380\n",
            "Epoch 45/100\n",
            "31/31 [==============================] - 0s 9ms/step - loss: 6.5071 - mae: 7.0489 - val_loss: 6.4003 - val_mae: 6.9471\n",
            "Epoch 46/100\n",
            "31/31 [==============================] - 0s 9ms/step - loss: 6.4239 - mae: 6.9418 - val_loss: 6.3794 - val_mae: 6.8998\n",
            "Epoch 47/100\n",
            "31/31 [==============================] - 0s 9ms/step - loss: 6.5909 - mae: 6.9357 - val_loss: 6.3643 - val_mae: 6.8160\n",
            "Epoch 48/100\n",
            "31/31 [==============================] - 0s 8ms/step - loss: 6.3445 - mae: 6.9042 - val_loss: 6.3557 - val_mae: 6.8818\n",
            "Epoch 49/100\n",
            "31/31 [==============================] - 0s 9ms/step - loss: 6.3944 - mae: 6.7920 - val_loss: 6.1951 - val_mae: 6.7120\n",
            "Epoch 50/100\n",
            "31/31 [==============================] - 0s 9ms/step - loss: 6.2657 - mae: 6.7451 - val_loss: 6.5079 - val_mae: 6.9985\n",
            "Epoch 51/100\n",
            "31/31 [==============================] - 0s 8ms/step - loss: 6.3104 - mae: 6.7828 - val_loss: 6.2008 - val_mae: 6.6209\n",
            "Epoch 52/100\n",
            "31/31 [==============================] - 0s 9ms/step - loss: 6.1724 - mae: 6.6550 - val_loss: 6.6650 - val_mae: 7.0156\n",
            "Epoch 53/100\n",
            "31/31 [==============================] - 0s 9ms/step - loss: 6.2011 - mae: 6.6861 - val_loss: 6.3230 - val_mae: 6.8582\n",
            "Epoch 54/100\n",
            "31/31 [==============================] - 0s 8ms/step - loss: 6.1434 - mae: 6.6602 - val_loss: 6.0008 - val_mae: 6.5311\n",
            "Epoch 55/100\n",
            "31/31 [==============================] - 0s 9ms/step - loss: 6.0724 - mae: 6.5093 - val_loss: 6.0019 - val_mae: 6.5113\n",
            "Epoch 56/100\n",
            "31/31 [==============================] - 0s 9ms/step - loss: 6.0677 - mae: 6.5170 - val_loss: 6.0592 - val_mae: 6.4950\n",
            "Epoch 57/100\n",
            "31/31 [==============================] - 0s 10ms/step - loss: 6.0074 - mae: 6.5045 - val_loss: 5.9523 - val_mae: 6.4512\n",
            "Epoch 58/100\n",
            "31/31 [==============================] - 0s 8ms/step - loss: 5.9424 - mae: 6.4300 - val_loss: 6.5282 - val_mae: 7.0275\n",
            "Epoch 59/100\n",
            "31/31 [==============================] - 0s 8ms/step - loss: 5.8880 - mae: 6.4095 - val_loss: 6.2710 - val_mae: 6.7304\n",
            "Epoch 60/100\n",
            "31/31 [==============================] - 0s 9ms/step - loss: 5.9342 - mae: 6.4036 - val_loss: 5.9114 - val_mae: 6.3983\n",
            "Epoch 61/100\n",
            "31/31 [==============================] - 0s 9ms/step - loss: 5.8024 - mae: 6.3195 - val_loss: 5.9642 - val_mae: 6.4277\n",
            "Epoch 62/100\n",
            "31/31 [==============================] - 0s 9ms/step - loss: 5.8076 - mae: 6.3158 - val_loss: 5.9970 - val_mae: 6.5138\n",
            "Epoch 63/100\n",
            "31/31 [==============================] - 0s 9ms/step - loss: 5.8467 - mae: 6.2962 - val_loss: 6.0042 - val_mae: 6.3899\n",
            "Epoch 64/100\n",
            "31/31 [==============================] - 0s 9ms/step - loss: 5.7477 - mae: 6.2138 - val_loss: 5.8279 - val_mae: 6.3414\n",
            "Epoch 65/100\n",
            "31/31 [==============================] - 0s 10ms/step - loss: 5.7323 - mae: 6.2228 - val_loss: 5.7855 - val_mae: 6.2484\n",
            "Epoch 66/100\n",
            "31/31 [==============================] - 0s 8ms/step - loss: 5.6802 - mae: 6.1685 - val_loss: 5.7921 - val_mae: 6.2485\n",
            "Epoch 67/100\n",
            "31/31 [==============================] - 0s 8ms/step - loss: 5.7095 - mae: 6.1712 - val_loss: 5.8200 - val_mae: 6.2940\n",
            "Epoch 68/100\n",
            "31/31 [==============================] - 0s 9ms/step - loss: 5.6539 - mae: 6.1653 - val_loss: 5.7905 - val_mae: 6.2627\n",
            "Epoch 69/100\n",
            "31/31 [==============================] - 0s 9ms/step - loss: 5.6141 - mae: 6.1001 - val_loss: 5.8544 - val_mae: 6.3617\n",
            "Epoch 70/100\n",
            "31/31 [==============================] - 0s 8ms/step - loss: 5.5694 - mae: 6.0480 - val_loss: 6.0286 - val_mae: 6.5506\n",
            "Epoch 71/100\n",
            "31/31 [==============================] - 0s 9ms/step - loss: 5.6005 - mae: 6.0622 - val_loss: 5.9647 - val_mae: 6.4130\n",
            "Epoch 72/100\n",
            "31/31 [==============================] - 0s 10ms/step - loss: 5.6400 - mae: 6.0539 - val_loss: 5.7124 - val_mae: 6.1118\n",
            "Epoch 73/100\n",
            "31/31 [==============================] - 0s 9ms/step - loss: 5.4841 - mae: 5.9901 - val_loss: 5.6008 - val_mae: 6.0984\n",
            "Epoch 74/100\n",
            "31/31 [==============================] - 0s 8ms/step - loss: 5.5477 - mae: 5.9970 - val_loss: 5.5440 - val_mae: 6.0942\n",
            "Epoch 75/100\n",
            "31/31 [==============================] - 0s 10ms/step - loss: 5.5149 - mae: 5.9983 - val_loss: 5.5693 - val_mae: 6.0602\n",
            "Epoch 76/100\n",
            "31/31 [==============================] - 0s 8ms/step - loss: 5.4193 - mae: 5.9415 - val_loss: 6.1903 - val_mae: 6.5490\n",
            "Epoch 77/100\n",
            "31/31 [==============================] - 0s 9ms/step - loss: 5.4517 - mae: 5.9418 - val_loss: 5.5656 - val_mae: 6.0782\n",
            "Epoch 78/100\n",
            "31/31 [==============================] - 0s 9ms/step - loss: 5.4377 - mae: 5.9419 - val_loss: 5.5060 - val_mae: 6.0019\n",
            "Epoch 79/100\n",
            "31/31 [==============================] - 0s 9ms/step - loss: 5.4014 - mae: 5.8664 - val_loss: 5.4817 - val_mae: 5.9891\n",
            "Epoch 80/100\n",
            "31/31 [==============================] - 0s 9ms/step - loss: 5.3910 - mae: 5.8161 - val_loss: 5.5085 - val_mae: 6.0166\n",
            "Epoch 81/100\n",
            "31/31 [==============================] - 0s 10ms/step - loss: 5.3114 - mae: 5.8146 - val_loss: 5.6281 - val_mae: 6.0466\n",
            "Epoch 82/100\n",
            "31/31 [==============================] - 0s 9ms/step - loss: 5.3286 - mae: 5.7864 - val_loss: 5.7298 - val_mae: 6.1997\n",
            "Epoch 83/100\n",
            "31/31 [==============================] - 0s 9ms/step - loss: 5.2269 - mae: 5.7368 - val_loss: 5.7871 - val_mae: 6.2469\n",
            "Epoch 84/100\n",
            "31/31 [==============================] - 0s 9ms/step - loss: 5.2667 - mae: 5.7593 - val_loss: 5.5035 - val_mae: 5.9045\n",
            "Epoch 85/100\n",
            "31/31 [==============================] - 0s 10ms/step - loss: 5.2189 - mae: 5.7291 - val_loss: 5.5808 - val_mae: 6.0777\n",
            "Epoch 86/100\n",
            "31/31 [==============================] - 0s 9ms/step - loss: 5.1608 - mae: 5.7008 - val_loss: 5.4781 - val_mae: 5.9205\n",
            "Epoch 87/100\n",
            "31/31 [==============================] - 0s 8ms/step - loss: 5.3110 - mae: 5.7127 - val_loss: 5.3518 - val_mae: 5.8612\n",
            "Epoch 88/100\n",
            "31/31 [==============================] - 0s 9ms/step - loss: 5.1336 - mae: 5.6500 - val_loss: 5.5157 - val_mae: 5.8578\n",
            "Epoch 89/100\n",
            "31/31 [==============================] - 0s 9ms/step - loss: 5.1757 - mae: 5.6395 - val_loss: 5.4622 - val_mae: 6.0084\n",
            "Epoch 90/100\n",
            "31/31 [==============================] - 0s 9ms/step - loss: 5.1611 - mae: 5.6309 - val_loss: 5.4053 - val_mae: 5.8017\n",
            "Epoch 91/100\n",
            "31/31 [==============================] - 0s 8ms/step - loss: 5.1262 - mae: 5.6135 - val_loss: 5.2340 - val_mae: 5.7872\n",
            "Epoch 92/100\n",
            "31/31 [==============================] - 0s 9ms/step - loss: 5.1935 - mae: 5.6075 - val_loss: 5.5667 - val_mae: 5.8918\n",
            "Epoch 93/100\n",
            "31/31 [==============================] - 0s 9ms/step - loss: 5.0232 - mae: 5.5629 - val_loss: 5.2278 - val_mae: 5.7618\n",
            "Epoch 94/100\n",
            "31/31 [==============================] - 0s 9ms/step - loss: 5.1230 - mae: 5.5571 - val_loss: 5.4269 - val_mae: 5.9091\n",
            "Epoch 95/100\n",
            "31/31 [==============================] - 0s 9ms/step - loss: 5.0884 - mae: 5.5213 - val_loss: 5.3290 - val_mae: 5.7888\n",
            "Epoch 96/100\n",
            "31/31 [==============================] - 0s 9ms/step - loss: 5.0386 - mae: 5.5226 - val_loss: 5.3852 - val_mae: 5.8857\n",
            "Epoch 97/100\n",
            "31/31 [==============================] - 0s 9ms/step - loss: 4.9983 - mae: 5.5036 - val_loss: 5.1862 - val_mae: 5.7094\n",
            "Epoch 98/100\n",
            "31/31 [==============================] - 0s 9ms/step - loss: 4.9981 - mae: 5.4776 - val_loss: 5.2916 - val_mae: 5.8079\n",
            "Epoch 99/100\n",
            "31/31 [==============================] - 0s 9ms/step - loss: 4.9638 - mae: 5.4691 - val_loss: 5.1674 - val_mae: 5.6754\n",
            "Epoch 100/100\n",
            "31/31 [==============================] - 0s 9ms/step - loss: 5.0252 - mae: 5.4741 - val_loss: 5.3667 - val_mae: 5.8500\n"
          ],
          "name": "stdout"
        },
        {
          "output_type": "execute_result",
          "data": {
            "text/plain": [
              "<tensorflow.python.keras.callbacks.History at 0x7fd1e058f748>"
            ]
          },
          "metadata": {
            "tags": []
          },
          "execution_count": 9
        }
      ]
    },
    {
      "cell_type": "code",
      "metadata": {
        "colab_type": "code",
        "id": "N3N8AGRM8OIc",
        "outputId": "76d9825a-d9d1-4868-fe9a-5933f0a6bd0a",
        "colab": {
          "base_uri": "https://localhost:8080/",
          "height": 1000
        }
      },
      "source": [
        "# the above gives around 5.8 mae for the validation set after 100 epochs\n",
        "# lets try something to figure out the optimal learning rate\n",
        "\n",
        "keras.backend.clear_session()\n",
        "tf.random.set_seed(42)\n",
        "np.random.seed(42)\n",
        "\n",
        "window_size = 30\n",
        "train_set = window_dataset(x_train, window_size)\n",
        "\n",
        "model = keras.models.Sequential([\n",
        "  keras.layers.Dense(1, input_shape=[window_size])\n",
        "])\n",
        "\n",
        "lr_schedule = keras.callbacks.LearningRateScheduler(\n",
        "    lambda epoch: 1e-6 * 10**(epoch / 30)) # here Im telling the model to start the learning rate at low of 10 to the -6 power, and increase it by 10x every 30 epochs\n",
        "optimizer = keras.optimizers.SGD(lr=1e-6, momentum=0.9)\n",
        "model.compile(loss=keras.losses.Huber(),\n",
        "              optimizer=optimizer,\n",
        "              metrics=[\"mae\"])\n",
        "history = model.fit(train_set, epochs=100, callbacks=[lr_schedule])"
      ],
      "execution_count": 0,
      "outputs": [
        {
          "output_type": "stream",
          "text": [
            "Epoch 1/100\n",
            "31/31 [==============================] - 0s 15ms/step - loss: 67.5573 - mae: 68.2355\n",
            "Epoch 2/100\n",
            "31/31 [==============================] - 0s 6ms/step - loss: 52.3274 - mae: 52.8279\n",
            "Epoch 3/100\n",
            "31/31 [==============================] - 0s 6ms/step - loss: 34.6397 - mae: 35.3488\n",
            "Epoch 4/100\n",
            "31/31 [==============================] - 0s 6ms/step - loss: 17.6722 - mae: 18.2666\n",
            "Epoch 5/100\n",
            "31/31 [==============================] - 0s 6ms/step - loss: 8.4772 - mae: 9.0412\n",
            "Epoch 6/100\n",
            "31/31 [==============================] - 0s 6ms/step - loss: 7.9360 - mae: 8.4686\n",
            "Epoch 7/100\n",
            "31/31 [==============================] - 0s 6ms/step - loss: 8.0485 - mae: 8.3976\n",
            "Epoch 8/100\n",
            "31/31 [==============================] - 0s 6ms/step - loss: 7.8122 - mae: 8.3568\n",
            "Epoch 9/100\n",
            "31/31 [==============================] - 0s 6ms/step - loss: 7.8515 - mae: 8.3132\n",
            "Epoch 10/100\n",
            "31/31 [==============================] - 0s 6ms/step - loss: 7.8280 - mae: 8.2520\n",
            "Epoch 11/100\n",
            "31/31 [==============================] - 0s 6ms/step - loss: 7.7490 - mae: 8.2040\n",
            "Epoch 12/100\n",
            "31/31 [==============================] - 0s 6ms/step - loss: 7.6157 - mae: 8.1571\n",
            "Epoch 13/100\n",
            "31/31 [==============================] - 0s 6ms/step - loss: 7.6241 - mae: 8.0983\n",
            "Epoch 14/100\n",
            "31/31 [==============================] - 0s 6ms/step - loss: 7.5126 - mae: 8.0580\n",
            "Epoch 15/100\n",
            "31/31 [==============================] - 0s 5ms/step - loss: 7.5280 - mae: 7.9956\n",
            "Epoch 16/100\n",
            "31/31 [==============================] - 0s 7ms/step - loss: 7.3926 - mae: 7.9420\n",
            "Epoch 17/100\n",
            "31/31 [==============================] - 0s 7ms/step - loss: 7.2994 - mae: 7.8501\n",
            "Epoch 18/100\n",
            "31/31 [==============================] - 0s 7ms/step - loss: 7.2903 - mae: 7.8082\n",
            "Epoch 19/100\n",
            "31/31 [==============================] - 0s 6ms/step - loss: 7.2710 - mae: 7.7297\n",
            "Epoch 20/100\n",
            "31/31 [==============================] - 0s 6ms/step - loss: 7.1794 - mae: 7.6656\n",
            "Epoch 21/100\n",
            "31/31 [==============================] - 0s 6ms/step - loss: 7.2336 - mae: 7.5920\n",
            "Epoch 22/100\n",
            "31/31 [==============================] - 0s 6ms/step - loss: 7.0783 - mae: 7.6044\n",
            "Epoch 23/100\n",
            "31/31 [==============================] - 0s 6ms/step - loss: 6.9889 - mae: 7.5139\n",
            "Epoch 24/100\n",
            "31/31 [==============================] - 0s 5ms/step - loss: 6.9341 - mae: 7.4251\n",
            "Epoch 25/100\n",
            "31/31 [==============================] - 0s 6ms/step - loss: 6.8870 - mae: 7.3939\n",
            "Epoch 26/100\n",
            "31/31 [==============================] - 0s 6ms/step - loss: 6.7978 - mae: 7.3001\n",
            "Epoch 27/100\n",
            "31/31 [==============================] - 0s 6ms/step - loss: 6.8086 - mae: 7.2419\n",
            "Epoch 28/100\n",
            "31/31 [==============================] - 0s 7ms/step - loss: 6.7132 - mae: 7.2104\n",
            "Epoch 29/100\n",
            "31/31 [==============================] - 0s 6ms/step - loss: 6.5866 - mae: 7.1246\n",
            "Epoch 30/100\n",
            "31/31 [==============================] - 0s 7ms/step - loss: 6.6569 - mae: 7.1402\n",
            "Epoch 31/100\n",
            "31/31 [==============================] - 0s 7ms/step - loss: 6.5903 - mae: 7.0442\n",
            "Epoch 32/100\n",
            "31/31 [==============================] - 0s 6ms/step - loss: 6.4814 - mae: 6.9671\n",
            "Epoch 33/100\n",
            "31/31 [==============================] - 0s 6ms/step - loss: 6.5158 - mae: 6.9706\n",
            "Epoch 34/100\n",
            "31/31 [==============================] - 0s 7ms/step - loss: 6.3624 - mae: 6.8304\n",
            "Epoch 35/100\n",
            "31/31 [==============================] - 0s 6ms/step - loss: 6.4147 - mae: 6.9369\n",
            "Epoch 36/100\n",
            "31/31 [==============================] - 0s 6ms/step - loss: 6.2358 - mae: 6.7358\n",
            "Epoch 37/100\n",
            "31/31 [==============================] - 0s 6ms/step - loss: 6.2198 - mae: 6.6862\n",
            "Epoch 38/100\n",
            "31/31 [==============================] - 0s 5ms/step - loss: 6.2208 - mae: 6.6435\n",
            "Epoch 39/100\n",
            "31/31 [==============================] - 0s 5ms/step - loss: 6.1134 - mae: 6.5842\n",
            "Epoch 40/100\n",
            "31/31 [==============================] - 0s 6ms/step - loss: 6.0682 - mae: 6.5729\n",
            "Epoch 41/100\n",
            "31/31 [==============================] - 0s 5ms/step - loss: 5.9726 - mae: 6.4850\n",
            "Epoch 42/100\n",
            "31/31 [==============================] - 0s 6ms/step - loss: 5.9647 - mae: 6.3751\n",
            "Epoch 43/100\n",
            "31/31 [==============================] - 0s 7ms/step - loss: 5.8697 - mae: 6.3056\n",
            "Epoch 44/100\n",
            "31/31 [==============================] - 0s 5ms/step - loss: 5.8800 - mae: 6.3547\n",
            "Epoch 45/100\n",
            "31/31 [==============================] - 0s 6ms/step - loss: 5.8399 - mae: 6.3820\n",
            "Epoch 46/100\n",
            "31/31 [==============================] - 0s 6ms/step - loss: 5.7977 - mae: 6.2202\n",
            "Epoch 47/100\n",
            "31/31 [==============================] - 0s 6ms/step - loss: 5.6052 - mae: 6.1029\n",
            "Epoch 48/100\n",
            "31/31 [==============================] - 0s 6ms/step - loss: 5.7255 - mae: 6.2109\n",
            "Epoch 49/100\n",
            "31/31 [==============================] - 0s 6ms/step - loss: 5.8074 - mae: 6.2475\n",
            "Epoch 50/100\n",
            "31/31 [==============================] - 0s 5ms/step - loss: 5.6310 - mae: 6.0871\n",
            "Epoch 51/100\n",
            "31/31 [==============================] - 0s 6ms/step - loss: 5.4622 - mae: 5.9416\n",
            "Epoch 52/100\n",
            "31/31 [==============================] - 0s 6ms/step - loss: 5.2779 - mae: 5.7438\n",
            "Epoch 53/100\n",
            "31/31 [==============================] - 0s 6ms/step - loss: 5.3936 - mae: 5.8682\n",
            "Epoch 54/100\n",
            "31/31 [==============================] - 0s 6ms/step - loss: 5.1796 - mae: 5.7025\n",
            "Epoch 55/100\n",
            "31/31 [==============================] - 0s 6ms/step - loss: 5.2698 - mae: 5.6782\n",
            "Epoch 56/100\n",
            "31/31 [==============================] - 0s 6ms/step - loss: 5.1009 - mae: 5.5818\n",
            "Epoch 57/100\n",
            "31/31 [==============================] - 0s 5ms/step - loss: 5.2695 - mae: 5.7649\n",
            "Epoch 58/100\n",
            "31/31 [==============================] - 0s 6ms/step - loss: 4.9247 - mae: 5.4176\n",
            "Epoch 59/100\n",
            "31/31 [==============================] - 0s 6ms/step - loss: 4.9441 - mae: 5.4288\n",
            "Epoch 60/100\n",
            "31/31 [==============================] - 0s 6ms/step - loss: 4.9905 - mae: 5.4827\n",
            "Epoch 61/100\n",
            "31/31 [==============================] - 0s 6ms/step - loss: 4.9488 - mae: 5.4860\n",
            "Epoch 62/100\n",
            "31/31 [==============================] - 0s 6ms/step - loss: 5.4730 - mae: 5.9821\n",
            "Epoch 63/100\n",
            "31/31 [==============================] - 0s 6ms/step - loss: 4.7190 - mae: 5.1604\n",
            "Epoch 64/100\n",
            "31/31 [==============================] - 0s 6ms/step - loss: 4.8400 - mae: 5.3375\n",
            "Epoch 65/100\n",
            "31/31 [==============================] - 0s 6ms/step - loss: 5.4667 - mae: 5.9831\n",
            "Epoch 66/100\n",
            "31/31 [==============================] - 0s 6ms/step - loss: 4.9004 - mae: 5.4103\n",
            "Epoch 67/100\n",
            "31/31 [==============================] - 0s 6ms/step - loss: 5.1497 - mae: 5.6386\n",
            "Epoch 68/100\n",
            "31/31 [==============================] - 0s 6ms/step - loss: 6.2262 - mae: 6.7593\n",
            "Epoch 69/100\n",
            "31/31 [==============================] - 0s 6ms/step - loss: 5.6433 - mae: 6.1150\n",
            "Epoch 70/100\n",
            "31/31 [==============================] - 0s 6ms/step - loss: 6.1599 - mae: 6.6466\n",
            "Epoch 71/100\n",
            "31/31 [==============================] - 0s 6ms/step - loss: 6.7774 - mae: 7.3468\n",
            "Epoch 72/100\n",
            "31/31 [==============================] - 0s 7ms/step - loss: 5.3594 - mae: 5.7825\n",
            "Epoch 73/100\n",
            "31/31 [==============================] - 0s 6ms/step - loss: 4.8640 - mae: 5.3721\n",
            "Epoch 74/100\n",
            "31/31 [==============================] - 0s 6ms/step - loss: 5.8362 - mae: 6.2258\n",
            "Epoch 75/100\n",
            "31/31 [==============================] - 0s 6ms/step - loss: 5.5013 - mae: 6.0042\n",
            "Epoch 76/100\n",
            "31/31 [==============================] - 0s 6ms/step - loss: 7.5159 - mae: 8.0206\n",
            "Epoch 77/100\n",
            "31/31 [==============================] - 0s 6ms/step - loss: 16.3547 - mae: 17.1394\n",
            "Epoch 78/100\n",
            "31/31 [==============================] - 0s 7ms/step - loss: 10.2495 - mae: 10.5506\n",
            "Epoch 79/100\n",
            "31/31 [==============================] - 0s 6ms/step - loss: 19.2142 - mae: 20.0116\n",
            "Epoch 80/100\n",
            "31/31 [==============================] - 0s 6ms/step - loss: 17.0067 - mae: 17.6743\n",
            "Epoch 81/100\n",
            "31/31 [==============================] - 0s 6ms/step - loss: 14.4491 - mae: 14.9687\n",
            "Epoch 82/100\n",
            "31/31 [==============================] - 0s 6ms/step - loss: 21.2988 - mae: 21.6118\n",
            "Epoch 83/100\n",
            "31/31 [==============================] - 0s 7ms/step - loss: 23.3253 - mae: 22.9506\n",
            "Epoch 84/100\n",
            "31/31 [==============================] - 0s 6ms/step - loss: 23.3991 - mae: 24.1179\n",
            "Epoch 85/100\n",
            "31/31 [==============================] - 0s 6ms/step - loss: 22.9569 - mae: 23.8346\n",
            "Epoch 86/100\n",
            "31/31 [==============================] - 0s 6ms/step - loss: 29.9416 - mae: 30.1683\n",
            "Epoch 87/100\n",
            "31/31 [==============================] - 0s 6ms/step - loss: 19.2943 - mae: 19.6327\n",
            "Epoch 88/100\n",
            "31/31 [==============================] - 0s 6ms/step - loss: 21.0780 - mae: 21.2760\n",
            "Epoch 89/100\n",
            "31/31 [==============================] - 0s 7ms/step - loss: 40.2546 - mae: 40.3783\n",
            "Epoch 90/100\n",
            "31/31 [==============================] - 0s 6ms/step - loss: 39.8395 - mae: 40.4594\n",
            "Epoch 91/100\n",
            "31/31 [==============================] - 0s 6ms/step - loss: 59.1377 - mae: 59.9584\n",
            "Epoch 92/100\n",
            "31/31 [==============================] - 0s 6ms/step - loss: 62.8906 - mae: 63.4854\n",
            "Epoch 93/100\n",
            "31/31 [==============================] - 0s 6ms/step - loss: 59.0707 - mae: 60.6308\n",
            "Epoch 94/100\n",
            "31/31 [==============================] - 0s 7ms/step - loss: 73.4570 - mae: 72.9738\n",
            "Epoch 95/100\n",
            "31/31 [==============================] - 0s 6ms/step - loss: 112.8172 - mae: 111.9897\n",
            "Epoch 96/100\n",
            "31/31 [==============================] - 0s 6ms/step - loss: 83.6684 - mae: 84.0126\n",
            "Epoch 97/100\n",
            "31/31 [==============================] - 0s 6ms/step - loss: 98.5935 - mae: 99.7897\n",
            "Epoch 98/100\n",
            "31/31 [==============================] - 0s 6ms/step - loss: 110.3944 - mae: 109.3665\n",
            "Epoch 99/100\n",
            "31/31 [==============================] - 0s 6ms/step - loss: 191.4674 - mae: 195.8987\n",
            "Epoch 100/100\n",
            "31/31 [==============================] - 0s 6ms/step - loss: 62.0345 - mae: 61.9473\n"
          ],
          "name": "stdout"
        }
      ]
    },
    {
      "cell_type": "code",
      "metadata": {
        "colab_type": "code",
        "id": "PF9e7IDm8OId",
        "outputId": "726a895a-6886-461d-d0b0-77d854d55379",
        "colab": {
          "base_uri": "https://localhost:8080/",
          "height": 290
        }
      },
      "source": [
        "# lets plot the error over the learning rate from the above training session\n",
        "# here we can see that the learning rate exploded after a while\n",
        "# we can see the the optimal learning rate is between 10^-5 to 10^-4\n",
        "# overall 10^-5 is the best one to use\n",
        "\n",
        "plt.semilogx(history.history[\"lr\"], history.history[\"loss\"])\n",
        "plt.axis([1e-6, 1e-3, 0, 40])"
      ],
      "execution_count": 0,
      "outputs": [
        {
          "output_type": "execute_result",
          "data": {
            "text/plain": [
              "[1e-06, 0.001, 0, 40]"
            ]
          },
          "metadata": {
            "tags": []
          },
          "execution_count": 13
        },
        {
          "output_type": "display_data",
          "data": {
            "image/png": "[encoded data removed]",
            "text/plain": [
              "<Figure size 432x288 with 1 Axes>"
            ]
          },
          "metadata": {
            "tags": []
          }
        }
      ]
    },
    {
      "cell_type": "code",
      "metadata": {
        "colab_type": "code",
        "id": "uMNwyIFE8OIf",
        "outputId": "dc3c9763-cfd6-4bbd-c00d-f700a093ce5e",
        "colab": {
          "base_uri": "https://localhost:8080/",
          "height": 1000
        }
      },
      "source": [
        "# another thing we can use to help is \"Early Stopping\" callback\n",
        "\n",
        "keras.backend.clear_session()\n",
        "tf.random.set_seed(42)\n",
        "np.random.seed(42)\n",
        "\n",
        "window_size = 30\n",
        "train_set = window_dataset(x_train, window_size)\n",
        "valid_set = window_dataset(x_valid, window_size)\n",
        "\n",
        "model = keras.models.Sequential([\n",
        "  keras.layers.Dense(1, input_shape=[window_size])\n",
        "])\n",
        "optimizer = keras.optimizers.SGD(lr=1e-5, momentum=0.9)  # use the 10^-5 learning rate\n",
        "model.compile(loss=keras.losses.Huber(),\n",
        "              optimizer=optimizer,\n",
        "              metrics=[\"mae\"])\n",
        "early_stopping = keras.callbacks.EarlyStopping(patience=10) # add the early stopping callback, if the metric does not improve in the previous 10 epochs, the models stops\n",
        "model.fit(train_set, epochs=500,\n",
        "          validation_data=valid_set,\n",
        "          callbacks=[early_stopping])"
      ],
      "execution_count": 0,
      "outputs": [
        {
          "output_type": "stream",
          "text": [
            "Epoch 1/500\n",
            "31/31 [==============================] - 1s 25ms/step - loss: 46.6127 - mae: 47.9542 - val_loss: 22.8934 - val_mae: 23.3670\n",
            "Epoch 2/500\n",
            "31/31 [==============================] - 0s 9ms/step - loss: 11.5051 - mae: 11.9459 - val_loss: 9.2357 - val_mae: 9.6871\n",
            "Epoch 3/500\n",
            "31/31 [==============================] - 0s 9ms/step - loss: 9.8460 - mae: 10.3805 - val_loss: 9.1530 - val_mae: 9.6008\n",
            "Epoch 4/500\n",
            "31/31 [==============================] - 0s 8ms/step - loss: 9.7397 - mae: 10.2880 - val_loss: 9.2402 - val_mae: 9.5627\n",
            "Epoch 5/500\n",
            "31/31 [==============================] - 0s 9ms/step - loss: 9.6098 - mae: 10.1772 - val_loss: 8.8791 - val_mae: 9.4029\n",
            "Epoch 6/500\n",
            "31/31 [==============================] - 0s 9ms/step - loss: 9.5544 - mae: 10.0866 - val_loss: 8.9816 - val_mae: 9.3764\n",
            "Epoch 7/500\n",
            "31/31 [==============================] - 0s 9ms/step - loss: 9.5411 - mae: 9.9598 - val_loss: 9.1477 - val_mae: 9.6448\n",
            "Epoch 8/500\n",
            "31/31 [==============================] - 0s 9ms/step - loss: 9.4851 - mae: 9.9422 - val_loss: 8.7311 - val_mae: 9.1497\n",
            "Epoch 9/500\n",
            "31/31 [==============================] - 0s 8ms/step - loss: 9.2665 - mae: 9.8119 - val_loss: 8.8546 - val_mae: 9.3354\n",
            "Epoch 10/500\n",
            "31/31 [==============================] - 0s 9ms/step - loss: 9.1176 - mae: 9.6605 - val_loss: 8.5426 - val_mae: 9.0899\n",
            "Epoch 11/500\n",
            "31/31 [==============================] - 0s 9ms/step - loss: 9.1549 - mae: 9.5409 - val_loss: 8.9611 - val_mae: 9.6144\n",
            "Epoch 12/500\n",
            "31/31 [==============================] - 0s 8ms/step - loss: 8.9512 - mae: 9.4910 - val_loss: 8.3247 - val_mae: 8.7871\n",
            "Epoch 13/500\n",
            "31/31 [==============================] - 0s 9ms/step - loss: 8.8332 - mae: 9.3872 - val_loss: 8.1997 - val_mae: 8.7302\n",
            "Epoch 14/500\n",
            "31/31 [==============================] - 0s 8ms/step - loss: 8.7356 - mae: 9.2432 - val_loss: 8.1176 - val_mae: 8.6369\n",
            "Epoch 15/500\n",
            "31/31 [==============================] - 0s 8ms/step - loss: 8.7119 - mae: 9.1426 - val_loss: 8.1161 - val_mae: 8.6082\n",
            "Epoch 16/500\n",
            "31/31 [==============================] - 0s 8ms/step - loss: 8.6283 - mae: 9.0912 - val_loss: 8.0115 - val_mae: 8.4647\n",
            "Epoch 17/500\n",
            "31/31 [==============================] - 0s 9ms/step - loss: 8.5352 - mae: 9.0146 - val_loss: 7.9018 - val_mae: 8.3889\n",
            "Epoch 18/500\n",
            "31/31 [==============================] - 0s 9ms/step - loss: 8.4385 - mae: 8.8838 - val_loss: 7.8439 - val_mae: 8.3067\n",
            "Epoch 19/500\n",
            "31/31 [==============================] - 0s 9ms/step - loss: 8.3318 - mae: 8.7835 - val_loss: 7.6570 - val_mae: 8.2369\n",
            "Epoch 20/500\n",
            "31/31 [==============================] - 0s 9ms/step - loss: 8.5737 - mae: 8.7729 - val_loss: 7.8061 - val_mae: 8.3250\n",
            "Epoch 21/500\n",
            "31/31 [==============================] - 0s 9ms/step - loss: 8.1467 - mae: 8.6799 - val_loss: 7.8912 - val_mae: 8.3775\n",
            "Epoch 22/500\n",
            "31/31 [==============================] - 0s 8ms/step - loss: 7.9580 - mae: 8.5173 - val_loss: 7.7146 - val_mae: 8.0249\n",
            "Epoch 23/500\n",
            "31/31 [==============================] - 0s 9ms/step - loss: 8.0981 - mae: 8.5123 - val_loss: 7.4875 - val_mae: 8.0241\n",
            "Epoch 24/500\n",
            "31/31 [==============================] - 0s 9ms/step - loss: 7.8785 - mae: 8.3764 - val_loss: 7.5182 - val_mae: 7.9389\n",
            "Epoch 25/500\n",
            "31/31 [==============================] - 0s 9ms/step - loss: 7.7999 - mae: 8.3485 - val_loss: 7.4287 - val_mae: 7.8362\n",
            "Epoch 26/500\n",
            "31/31 [==============================] - 0s 9ms/step - loss: 7.7945 - mae: 8.2245 - val_loss: 7.5423 - val_mae: 7.9082\n",
            "Epoch 27/500\n",
            "31/31 [==============================] - 0s 8ms/step - loss: 7.6860 - mae: 8.1787 - val_loss: 7.4901 - val_mae: 7.7869\n",
            "Epoch 28/500\n",
            "31/31 [==============================] - 0s 9ms/step - loss: 7.4584 - mae: 8.0543 - val_loss: 7.4811 - val_mae: 7.8965\n",
            "Epoch 29/500\n",
            "31/31 [==============================] - 0s 9ms/step - loss: 7.4329 - mae: 7.9952 - val_loss: 7.3368 - val_mae: 7.6857\n",
            "Epoch 30/500\n",
            "31/31 [==============================] - 0s 8ms/step - loss: 7.4352 - mae: 7.9338 - val_loss: 7.1814 - val_mae: 7.6461\n",
            "Epoch 31/500\n",
            "31/31 [==============================] - 0s 9ms/step - loss: 7.3034 - mae: 7.8347 - val_loss: 7.3299 - val_mae: 7.8801\n",
            "Epoch 32/500\n",
            "31/31 [==============================] - 0s 9ms/step - loss: 7.3150 - mae: 7.8155 - val_loss: 7.0163 - val_mae: 7.4639\n",
            "Epoch 33/500\n",
            "31/31 [==============================] - 0s 9ms/step - loss: 7.2097 - mae: 7.6849 - val_loss: 7.1127 - val_mae: 7.4108\n",
            "Epoch 34/500\n",
            "31/31 [==============================] - 0s 10ms/step - loss: 7.1468 - mae: 7.6849 - val_loss: 6.7834 - val_mae: 7.3680\n",
            "Epoch 35/500\n",
            "31/31 [==============================] - 0s 8ms/step - loss: 7.1133 - mae: 7.5731 - val_loss: 7.0126 - val_mae: 7.5712\n",
            "Epoch 36/500\n",
            "31/31 [==============================] - 0s 9ms/step - loss: 7.1183 - mae: 7.5424 - val_loss: 6.6977 - val_mae: 7.2341\n",
            "Epoch 37/500\n",
            "31/31 [==============================] - 0s 10ms/step - loss: 6.9736 - mae: 7.4698 - val_loss: 6.7660 - val_mae: 7.2993\n",
            "Epoch 38/500\n",
            "31/31 [==============================] - 0s 9ms/step - loss: 6.9065 - mae: 7.3897 - val_loss: 6.6870 - val_mae: 7.1210\n",
            "Epoch 39/500\n",
            "31/31 [==============================] - 0s 8ms/step - loss: 6.8967 - mae: 7.3467 - val_loss: 6.7620 - val_mae: 7.2326\n",
            "Epoch 40/500\n",
            "31/31 [==============================] - 0s 10ms/step - loss: 6.6941 - mae: 7.2490 - val_loss: 6.9749 - val_mae: 7.5261\n",
            "Epoch 41/500\n",
            "31/31 [==============================] - 0s 8ms/step - loss: 6.6664 - mae: 7.2129 - val_loss: 6.5955 - val_mae: 7.0717\n",
            "Epoch 42/500\n",
            "31/31 [==============================] - 0s 9ms/step - loss: 6.6713 - mae: 7.1823 - val_loss: 6.6620 - val_mae: 7.0698\n",
            "Epoch 43/500\n",
            "31/31 [==============================] - 0s 10ms/step - loss: 6.6650 - mae: 7.1058 - val_loss: 6.5818 - val_mae: 6.8937\n",
            "Epoch 44/500\n",
            "31/31 [==============================] - 0s 8ms/step - loss: 6.4863 - mae: 7.0235 - val_loss: 6.5852 - val_mae: 7.0380\n",
            "Epoch 45/500\n",
            "31/31 [==============================] - 0s 9ms/step - loss: 6.5071 - mae: 7.0489 - val_loss: 6.4003 - val_mae: 6.9471\n",
            "Epoch 46/500\n",
            "31/31 [==============================] - 0s 9ms/step - loss: 6.4239 - mae: 6.9418 - val_loss: 6.3794 - val_mae: 6.8998\n",
            "Epoch 47/500\n",
            "31/31 [==============================] - 0s 8ms/step - loss: 6.5909 - mae: 6.9357 - val_loss: 6.3643 - val_mae: 6.8160\n",
            "Epoch 48/500\n",
            "31/31 [==============================] - 0s 9ms/step - loss: 6.3445 - mae: 6.9042 - val_loss: 6.3557 - val_mae: 6.8818\n",
            "Epoch 49/500\n",
            "31/31 [==============================] - 0s 9ms/step - loss: 6.3944 - mae: 6.7920 - val_loss: 6.1951 - val_mae: 6.7120\n",
            "Epoch 50/500\n",
            "31/31 [==============================] - 0s 9ms/step - loss: 6.2657 - mae: 6.7451 - val_loss: 6.5079 - val_mae: 6.9985\n",
            "Epoch 51/500\n",
            "31/31 [==============================] - 0s 8ms/step - loss: 6.3104 - mae: 6.7828 - val_loss: 6.2008 - val_mae: 6.6209\n",
            "Epoch 52/500\n",
            "31/31 [==============================] - 0s 9ms/step - loss: 6.1724 - mae: 6.6550 - val_loss: 6.6650 - val_mae: 7.0156\n",
            "Epoch 53/500\n",
            "31/31 [==============================] - 0s 9ms/step - loss: 6.2011 - mae: 6.6861 - val_loss: 6.3230 - val_mae: 6.8582\n",
            "Epoch 54/500\n",
            "31/31 [==============================] - 0s 9ms/step - loss: 6.1434 - mae: 6.6602 - val_loss: 6.0008 - val_mae: 6.5311\n",
            "Epoch 55/500\n",
            "31/31 [==============================] - 0s 9ms/step - loss: 6.0724 - mae: 6.5093 - val_loss: 6.0019 - val_mae: 6.5113\n",
            "Epoch 56/500\n",
            "31/31 [==============================] - 0s 8ms/step - loss: 6.0677 - mae: 6.5170 - val_loss: 6.0592 - val_mae: 6.4950\n",
            "Epoch 57/500\n",
            "31/31 [==============================] - 0s 9ms/step - loss: 6.0074 - mae: 6.5045 - val_loss: 5.9523 - val_mae: 6.4512\n",
            "Epoch 58/500\n",
            "31/31 [==============================] - 0s 8ms/step - loss: 5.9424 - mae: 6.4300 - val_loss: 6.5282 - val_mae: 7.0275\n",
            "Epoch 59/500\n",
            "31/31 [==============================] - 0s 9ms/step - loss: 5.8880 - mae: 6.4095 - val_loss: 6.2710 - val_mae: 6.7304\n",
            "Epoch 60/500\n",
            "31/31 [==============================] - 0s 9ms/step - loss: 5.9342 - mae: 6.4036 - val_loss: 5.9114 - val_mae: 6.3983\n",
            "Epoch 61/500\n",
            "31/31 [==============================] - 0s 9ms/step - loss: 5.8024 - mae: 6.3195 - val_loss: 5.9642 - val_mae: 6.4277\n",
            "Epoch 62/500\n",
            "31/31 [==============================] - 0s 9ms/step - loss: 5.8076 - mae: 6.3158 - val_loss: 5.9970 - val_mae: 6.5138\n",
            "Epoch 63/500\n",
            "31/31 [==============================] - 0s 9ms/step - loss: 5.8467 - mae: 6.2962 - val_loss: 6.0042 - val_mae: 6.3899\n",
            "Epoch 64/500\n",
            "31/31 [==============================] - 0s 8ms/step - loss: 5.7477 - mae: 6.2138 - val_loss: 5.8279 - val_mae: 6.3414\n",
            "Epoch 65/500\n",
            "31/31 [==============================] - 0s 9ms/step - loss: 5.7323 - mae: 6.2228 - val_loss: 5.7855 - val_mae: 6.2484\n",
            "Epoch 66/500\n",
            "31/31 [==============================] - 0s 9ms/step - loss: 5.6802 - mae: 6.1685 - val_loss: 5.7921 - val_mae: 6.2485\n",
            "Epoch 67/500\n",
            "31/31 [==============================] - 0s 9ms/step - loss: 5.7095 - mae: 6.1712 - val_loss: 5.8200 - val_mae: 6.2940\n",
            "Epoch 68/500\n",
            "31/31 [==============================] - 0s 9ms/step - loss: 5.6539 - mae: 6.1653 - val_loss: 5.7905 - val_mae: 6.2627\n",
            "Epoch 69/500\n",
            "31/31 [==============================] - 0s 9ms/step - loss: 5.6141 - mae: 6.1001 - val_loss: 5.8544 - val_mae: 6.3617\n",
            "Epoch 70/500\n",
            "31/31 [==============================] - 0s 9ms/step - loss: 5.5694 - mae: 6.0480 - val_loss: 6.0286 - val_mae: 6.5506\n",
            "Epoch 71/500\n",
            "31/31 [==============================] - 0s 9ms/step - loss: 5.6005 - mae: 6.0622 - val_loss: 5.9647 - val_mae: 6.4130\n",
            "Epoch 72/500\n",
            "31/31 [==============================] - 0s 8ms/step - loss: 5.6400 - mae: 6.0539 - val_loss: 5.7124 - val_mae: 6.1118\n",
            "Epoch 73/500\n",
            "31/31 [==============================] - 0s 9ms/step - loss: 5.4841 - mae: 5.9901 - val_loss: 5.6008 - val_mae: 6.0984\n",
            "Epoch 74/500\n",
            "31/31 [==============================] - 0s 9ms/step - loss: 5.5477 - mae: 5.9970 - val_loss: 5.5440 - val_mae: 6.0942\n",
            "Epoch 75/500\n",
            "31/31 [==============================] - 0s 9ms/step - loss: 5.5149 - mae: 5.9983 - val_loss: 5.5693 - val_mae: 6.0602\n",
            "Epoch 76/500\n",
            "31/31 [==============================] - 0s 9ms/step - loss: 5.4193 - mae: 5.9415 - val_loss: 6.1903 - val_mae: 6.5490\n",
            "Epoch 77/500\n",
            "31/31 [==============================] - 0s 9ms/step - loss: 5.4517 - mae: 5.9418 - val_loss: 5.5656 - val_mae: 6.0782\n",
            "Epoch 78/500\n",
            "31/31 [==============================] - 0s 8ms/step - loss: 5.4377 - mae: 5.9419 - val_loss: 5.5060 - val_mae: 6.0019\n",
            "Epoch 79/500\n",
            "31/31 [==============================] - 0s 9ms/step - loss: 5.4014 - mae: 5.8664 - val_loss: 5.4817 - val_mae: 5.9891\n",
            "Epoch 80/500\n",
            "31/31 [==============================] - 0s 9ms/step - loss: 5.3910 - mae: 5.8161 - val_loss: 5.5085 - val_mae: 6.0166\n",
            "Epoch 81/500\n",
            "31/31 [==============================] - 0s 9ms/step - loss: 5.3114 - mae: 5.8146 - val_loss: 5.6281 - val_mae: 6.0466\n",
            "Epoch 82/500\n",
            "31/31 [==============================] - 0s 9ms/step - loss: 5.3286 - mae: 5.7864 - val_loss: 5.7298 - val_mae: 6.1997\n",
            "Epoch 83/500\n",
            "31/31 [==============================] - 0s 9ms/step - loss: 5.2269 - mae: 5.7368 - val_loss: 5.7871 - val_mae: 6.2469\n",
            "Epoch 84/500\n",
            "31/31 [==============================] - 0s 10ms/step - loss: 5.2667 - mae: 5.7593 - val_loss: 5.5035 - val_mae: 5.9045\n",
            "Epoch 85/500\n",
            "31/31 [==============================] - 0s 9ms/step - loss: 5.2189 - mae: 5.7291 - val_loss: 5.5808 - val_mae: 6.0777\n",
            "Epoch 86/500\n",
            "31/31 [==============================] - 0s 8ms/step - loss: 5.1608 - mae: 5.7008 - val_loss: 5.4781 - val_mae: 5.9205\n",
            "Epoch 87/500\n",
            "31/31 [==============================] - 0s 9ms/step - loss: 5.3110 - mae: 5.7127 - val_loss: 5.3518 - val_mae: 5.8612\n",
            "Epoch 88/500\n",
            "31/31 [==============================] - 0s 9ms/step - loss: 5.1336 - mae: 5.6500 - val_loss: 5.5157 - val_mae: 5.8578\n",
            "Epoch 89/500\n",
            "31/31 [==============================] - 0s 9ms/step - loss: 5.1757 - mae: 5.6395 - val_loss: 5.4622 - val_mae: 6.0084\n",
            "Epoch 90/500\n",
            "31/31 [==============================] - 0s 8ms/step - loss: 5.1611 - mae: 5.6309 - val_loss: 5.4053 - val_mae: 5.8017\n",
            "Epoch 91/500\n",
            "31/31 [==============================] - 0s 8ms/step - loss: 5.1262 - mae: 5.6135 - val_loss: 5.2340 - val_mae: 5.7872\n",
            "Epoch 92/500\n",
            "31/31 [==============================] - 0s 9ms/step - loss: 5.1935 - mae: 5.6075 - val_loss: 5.5667 - val_mae: 5.8918\n",
            "Epoch 93/500\n",
            "31/31 [==============================] - 0s 9ms/step - loss: 5.0232 - mae: 5.5629 - val_loss: 5.2278 - val_mae: 5.7618\n",
            "Epoch 94/500\n",
            "31/31 [==============================] - 0s 9ms/step - loss: 5.1230 - mae: 5.5571 - val_loss: 5.4269 - val_mae: 5.9091\n",
            "Epoch 95/500\n",
            "31/31 [==============================] - 0s 9ms/step - loss: 5.0884 - mae: 5.5213 - val_loss: 5.3290 - val_mae: 5.7888\n",
            "Epoch 96/500\n",
            "31/31 [==============================] - 0s 10ms/step - loss: 5.0386 - mae: 5.5226 - val_loss: 5.3852 - val_mae: 5.8857\n",
            "Epoch 97/500\n",
            "31/31 [==============================] - 0s 9ms/step - loss: 4.9983 - mae: 5.5036 - val_loss: 5.1862 - val_mae: 5.7094\n",
            "Epoch 98/500\n",
            "31/31 [==============================] - 0s 9ms/step - loss: 4.9981 - mae: 5.4776 - val_loss: 5.2916 - val_mae: 5.8079\n",
            "Epoch 99/500\n",
            "31/31 [==============================] - 0s 9ms/step - loss: 4.9638 - mae: 5.4691 - val_loss: 5.1674 - val_mae: 5.6754\n",
            "Epoch 100/500\n",
            "31/31 [==============================] - 0s 9ms/step - loss: 5.0252 - mae: 5.4741 - val_loss: 5.3667 - val_mae: 5.8500\n",
            "Epoch 101/500\n",
            "31/31 [==============================] - 0s 9ms/step - loss: 4.9912 - mae: 5.4899 - val_loss: 5.6709 - val_mae: 6.2145\n",
            "Epoch 102/500\n",
            "31/31 [==============================] - 0s 9ms/step - loss: 4.9535 - mae: 5.4140 - val_loss: 5.2001 - val_mae: 5.7089\n",
            "Epoch 103/500\n",
            "31/31 [==============================] - 0s 9ms/step - loss: 5.0342 - mae: 5.4920 - val_loss: 5.0598 - val_mae: 5.6270\n",
            "Epoch 104/500\n",
            "31/31 [==============================] - 0s 10ms/step - loss: 4.8750 - mae: 5.4058 - val_loss: 5.0751 - val_mae: 5.6113\n",
            "Epoch 105/500\n",
            "31/31 [==============================] - 0s 10ms/step - loss: 5.0391 - mae: 5.4079 - val_loss: 5.2416 - val_mae: 5.7954\n",
            "Epoch 106/500\n",
            "31/31 [==============================] - 0s 9ms/step - loss: 4.8473 - mae: 5.3664 - val_loss: 5.0984 - val_mae: 5.5891\n",
            "Epoch 107/500\n",
            "31/31 [==============================] - 0s 9ms/step - loss: 4.8508 - mae: 5.3700 - val_loss: 5.3164 - val_mae: 5.7933\n",
            "Epoch 108/500\n",
            "31/31 [==============================] - 0s 9ms/step - loss: 5.0319 - mae: 5.4070 - val_loss: 5.0538 - val_mae: 5.5904\n",
            "Epoch 109/500\n",
            "31/31 [==============================] - 0s 9ms/step - loss: 4.7924 - mae: 5.3198 - val_loss: 5.1683 - val_mae: 5.6763\n",
            "Epoch 110/500\n",
            "31/31 [==============================] - 0s 9ms/step - loss: 4.7937 - mae: 5.3089 - val_loss: 5.6445 - val_mae: 6.1465\n",
            "Epoch 111/500\n",
            "31/31 [==============================] - 0s 9ms/step - loss: 5.0005 - mae: 5.3768 - val_loss: 5.0647 - val_mae: 5.5706\n",
            "Epoch 112/500\n",
            "31/31 [==============================] - 0s 9ms/step - loss: 4.8122 - mae: 5.3057 - val_loss: 5.1271 - val_mae: 5.5521\n",
            "Epoch 113/500\n",
            "31/31 [==============================] - 0s 8ms/step - loss: 4.8012 - mae: 5.3038 - val_loss: 5.0621 - val_mae: 5.5317\n",
            "Epoch 114/500\n",
            "31/31 [==============================] - 0s 9ms/step - loss: 4.7876 - mae: 5.3079 - val_loss: 5.0227 - val_mae: 5.4983\n",
            "Epoch 115/500\n",
            "31/31 [==============================] - 0s 9ms/step - loss: 4.8303 - mae: 5.2923 - val_loss: 5.3069 - val_mae: 5.7753\n",
            "Epoch 116/500\n",
            "31/31 [==============================] - 0s 9ms/step - loss: 4.8345 - mae: 5.2969 - val_loss: 4.9747 - val_mae: 5.5253\n",
            "Epoch 117/500\n",
            "31/31 [==============================] - 0s 9ms/step - loss: 4.7497 - mae: 5.2365 - val_loss: 5.0617 - val_mae: 5.5173\n",
            "Epoch 118/500\n",
            "31/31 [==============================] - 0s 8ms/step - loss: 4.8396 - mae: 5.3090 - val_loss: 4.9355 - val_mae: 5.4709\n",
            "Epoch 119/500\n",
            "31/31 [==============================] - 0s 9ms/step - loss: 4.7812 - mae: 5.2807 - val_loss: 5.2369 - val_mae: 5.5950\n",
            "Epoch 120/500\n",
            "31/31 [==============================] - 0s 9ms/step - loss: 4.7066 - mae: 5.2239 - val_loss: 5.0209 - val_mae: 5.4540\n",
            "Epoch 121/500\n",
            "31/31 [==============================] - 0s 8ms/step - loss: 4.7743 - mae: 5.1845 - val_loss: 5.1194 - val_mae: 5.6238\n",
            "Epoch 122/500\n",
            "31/31 [==============================] - 0s 9ms/step - loss: 4.7146 - mae: 5.1755 - val_loss: 4.9912 - val_mae: 5.4909\n",
            "Epoch 123/500\n",
            "31/31 [==============================] - 0s 9ms/step - loss: 4.6751 - mae: 5.1626 - val_loss: 5.2021 - val_mae: 5.6674\n",
            "Epoch 124/500\n",
            "31/31 [==============================] - 0s 8ms/step - loss: 4.7475 - mae: 5.1956 - val_loss: 5.0065 - val_mae: 5.5162\n",
            "Epoch 125/500\n",
            "31/31 [==============================] - 0s 9ms/step - loss: 4.7040 - mae: 5.2005 - val_loss: 5.0760 - val_mae: 5.3858\n",
            "Epoch 126/500\n",
            "31/31 [==============================] - 0s 9ms/step - loss: 4.7043 - mae: 5.1690 - val_loss: 5.0776 - val_mae: 5.4696\n",
            "Epoch 127/500\n",
            "31/31 [==============================] - 0s 9ms/step - loss: 4.6536 - mae: 5.1350 - val_loss: 4.9439 - val_mae: 5.4462\n",
            "Epoch 128/500\n",
            "31/31 [==============================] - 0s 9ms/step - loss: 4.6591 - mae: 5.1441 - val_loss: 4.9658 - val_mae: 5.4599\n"
          ],
          "name": "stdout"
        },
        {
          "output_type": "execute_result",
          "data": {
            "text/plain": [
              "<tensorflow.python.keras.callbacks.History at 0x7fd1deb76860>"
            ]
          },
          "metadata": {
            "tags": []
          },
          "execution_count": 14
        }
      ]
    },
    {
      "cell_type": "code",
      "metadata": {
        "id": "9Q-h_54wZfLT",
        "colab_type": "code",
        "colab": {}
      },
      "source": [
        "# here we see that we got the val mae down to 5.46"
      ],
      "execution_count": 0,
      "outputs": []
    },
    {
      "cell_type": "code",
      "metadata": {
        "colab_type": "code",
        "id": "_eaAX9g_jS5W",
        "colab": {}
      },
      "source": [
        "# create a function to do model predict\n",
        "def model_forecast(model, series, window_size):\n",
        "    ds = tf.data.Dataset.from_tensor_slices(series)\n",
        "    ds = ds.window(window_size, shift=1, drop_remainder=True)\n",
        "    ds = ds.flat_map(lambda w: w.batch(window_size))\n",
        "    ds = ds.batch(32).prefetch(1)\n",
        "    forecast = model.predict(ds)\n",
        "    return forecast"
      ],
      "execution_count": 0,
      "outputs": []
    },
    {
      "cell_type": "code",
      "metadata": {
        "colab_type": "code",
        "id": "FnIWROQ08OIj",
        "colab": {}
      },
      "source": [
        "lin_forecast = model_forecast(model, series[split_time - window_size:-1], window_size)[:, 0]\n",
        "# series[split_time - window_size:-1] means that we start at the split time, and minus the window size so we get that portion for prediction"
      ],
      "execution_count": 0,
      "outputs": []
    },
    {
      "cell_type": "code",
      "metadata": {
        "colab_type": "code",
        "id": "xd7Tj_fA8OIk",
        "outputId": "43ef0c42-dfc9-4cca-bbbf-353284ba6d39",
        "colab": {
          "base_uri": "https://localhost:8080/",
          "height": 34
        }
      },
      "source": [
        "lin_forecast.shape"
      ],
      "execution_count": 0,
      "outputs": [
        {
          "output_type": "execute_result",
          "data": {
            "text/plain": [
              "(461,)"
            ]
          },
          "metadata": {
            "tags": []
          },
          "execution_count": 20
        }
      ]
    },
    {
      "cell_type": "code",
      "metadata": {
        "colab_type": "code",
        "id": "F-nftslfgQJs",
        "outputId": "c16b5b8d-3a16-4d3a-d08e-31c8b5cbe502",
        "colab": {
          "base_uri": "https://localhost:8080/",
          "height": 388
        }
      },
      "source": [
        "# plot the predictions against validation data\n",
        "\n",
        "plt.figure(figsize=(10, 6))\n",
        "plot_series(time_valid, x_valid)\n",
        "plot_series(time_valid, lin_forecast)"
      ],
      "execution_count": 0,
      "outputs": [
        {
          "output_type": "display_data",
          "data": {
            "image/png": "[encoded data removed]",
            "text/plain": [
              "<Figure size 720x432 with 1 Axes>"
            ]
          },
          "metadata": {
            "tags": []
          }
        }
      ]
    },
    {
      "cell_type": "code",
      "metadata": {
        "colab_type": "code",
        "id": "W4E_jXktf7iv",
        "outputId": "4d904a6b-9397-4428-f618-753b7e14b736",
        "colab": {
          "base_uri": "https://localhost:8080/",
          "height": 34
        }
      },
      "source": [
        "keras.metrics.mean_absolute_error(x_valid, lin_forecast).numpy()"
      ],
      "execution_count": 0,
      "outputs": [
        {
          "output_type": "execute_result",
          "data": {
            "text/plain": [
              "5.343385"
            ]
          },
          "metadata": {
            "tags": []
          },
          "execution_count": 23
        }
      ]
    },
    {
      "cell_type": "code",
      "metadata": {
        "id": "IuX1QeIgaVGO",
        "colab_type": "code",
        "colab": {}
      },
      "source": [
        "# better performance"
      ],
      "execution_count": 0,
      "outputs": []
    },
    {
      "cell_type": "markdown",
      "metadata": {
        "colab_type": "text",
        "id": "9nEM33dZ8OIp"
      },
      "source": [
        "### Dense Model Forecasting"
      ]
    },
    {
      "cell_type": "code",
      "metadata": {
        "colab_type": "code",
        "id": "RhGTv4G_8OIp",
        "outputId": "c1258703-643e-41e4-c155-2beb12c5401b",
        "colab": {
          "base_uri": "https://localhost:8080/",
          "height": 1000
        }
      },
      "source": [
        "# lets now add some more Dense layers\n",
        "# also to test out the learning rate\n",
        "\n",
        "keras.backend.clear_session()\n",
        "tf.random.set_seed(42)\n",
        "np.random.seed(42)\n",
        "\n",
        "window_size = 30\n",
        "train_set = window_dataset(x_train, window_size)\n",
        "\n",
        "model = keras.models.Sequential([\n",
        "  keras.layers.Dense(10, activation=\"relu\", input_shape=[window_size]),\n",
        "  keras.layers.Dense(10, activation=\"relu\"),\n",
        "  keras.layers.Dense(1)\n",
        "])\n",
        "\n",
        "lr_schedule = keras.callbacks.LearningRateScheduler(      # we also added this for testing out the learning rate\n",
        "    lambda epoch: 1e-7 * 10**(epoch / 20)) \n",
        "optimizer = keras.optimizers.SGD(lr=1e-7, momentum=0.9)\n",
        "model.compile(loss=keras.losses.Huber(),\n",
        "              optimizer=optimizer,\n",
        "              metrics=[\"mae\"])\n",
        "history = model.fit(train_set, epochs=100, callbacks=[lr_schedule])"
      ],
      "execution_count": 0,
      "outputs": [
        {
          "output_type": "stream",
          "text": [
            "Epoch 1/100\n",
            "31/31 [==============================] - 1s 17ms/step - loss: 43.7565 - mae: 44.3312\n",
            "Epoch 2/100\n",
            "31/31 [==============================] - 0s 6ms/step - loss: 41.8288 - mae: 42.0073\n",
            "Epoch 3/100\n",
            "31/31 [==============================] - 0s 7ms/step - loss: 38.7457 - mae: 39.1402\n",
            "Epoch 4/100\n",
            "31/31 [==============================] - 0s 6ms/step - loss: 35.3772 - mae: 35.8227\n",
            "Epoch 5/100\n",
            "31/31 [==============================] - 0s 5ms/step - loss: 31.4448 - mae: 32.0831\n",
            "Epoch 6/100\n",
            "31/31 [==============================] - 0s 6ms/step - loss: 27.2989 - mae: 27.9021\n",
            "Epoch 7/100\n",
            "31/31 [==============================] - 0s 6ms/step - loss: 22.6964 - mae: 23.2716\n",
            "Epoch 8/100\n",
            "31/31 [==============================] - 0s 6ms/step - loss: 17.6484 - mae: 18.2723\n",
            "Epoch 9/100\n",
            "31/31 [==============================] - 0s 6ms/step - loss: 12.6114 - mae: 13.1545\n",
            "Epoch 10/100\n",
            "31/31 [==============================] - 0s 6ms/step - loss: 8.6302 - mae: 9.0650\n",
            "Epoch 11/100\n",
            "31/31 [==============================] - 0s 5ms/step - loss: 6.9255 - mae: 7.3206\n",
            "Epoch 12/100\n",
            "31/31 [==============================] - 0s 6ms/step - loss: 6.6097 - mae: 7.1198\n",
            "Epoch 13/100\n",
            "31/31 [==============================] - 0s 6ms/step - loss: 6.6213 - mae: 7.1099\n",
            "Epoch 14/100\n",
            "31/31 [==============================] - 0s 6ms/step - loss: 6.5972 - mae: 7.0989\n",
            "Epoch 15/100\n",
            "31/31 [==============================] - 0s 6ms/step - loss: 6.6638 - mae: 7.0889\n",
            "Epoch 16/100\n",
            "31/31 [==============================] - 0s 6ms/step - loss: 6.5634 - mae: 7.0746\n",
            "Epoch 17/100\n",
            "31/31 [==============================] - 0s 6ms/step - loss: 6.5914 - mae: 7.0617\n",
            "Epoch 18/100\n",
            "31/31 [==============================] - 0s 7ms/step - loss: 6.5955 - mae: 7.0464\n",
            "Epoch 19/100\n",
            "31/31 [==============================] - 0s 6ms/step - loss: 6.5326 - mae: 7.0304\n",
            "Epoch 20/100\n",
            "31/31 [==============================] - 0s 6ms/step - loss: 6.7455 - mae: 7.0084\n",
            "Epoch 21/100\n",
            "31/31 [==============================] - 0s 6ms/step - loss: 6.5086 - mae: 6.9886\n",
            "Epoch 22/100\n",
            "31/31 [==============================] - 0s 6ms/step - loss: 6.4470 - mae: 6.9630\n",
            "Epoch 23/100\n",
            "31/31 [==============================] - 0s 7ms/step - loss: 6.5066 - mae: 6.9402\n",
            "Epoch 24/100\n",
            "31/31 [==============================] - 0s 6ms/step - loss: 6.4029 - mae: 6.9131\n",
            "Epoch 25/100\n",
            "31/31 [==============================] - 0s 6ms/step - loss: 6.4079 - mae: 6.9026\n",
            "Epoch 26/100\n",
            "31/31 [==============================] - 0s 6ms/step - loss: 6.4062 - mae: 6.8546\n",
            "Epoch 27/100\n",
            "31/31 [==============================] - 0s 6ms/step - loss: 6.3246 - mae: 6.8217\n",
            "Epoch 28/100\n",
            "31/31 [==============================] - 0s 6ms/step - loss: 6.2858 - mae: 6.7974\n",
            "Epoch 29/100\n",
            "31/31 [==============================] - 0s 7ms/step - loss: 6.2146 - mae: 6.7454\n",
            "Epoch 30/100\n",
            "31/31 [==============================] - 0s 6ms/step - loss: 6.1845 - mae: 6.7241\n",
            "Epoch 31/100\n",
            "31/31 [==============================] - 0s 6ms/step - loss: 6.1603 - mae: 6.6622\n",
            "Epoch 32/100\n",
            "31/31 [==============================] - 0s 7ms/step - loss: 6.2335 - mae: 6.6743\n",
            "Epoch 33/100\n",
            "31/31 [==============================] - 0s 6ms/step - loss: 6.2122 - mae: 6.6198\n",
            "Epoch 34/100\n",
            "31/31 [==============================] - 0s 6ms/step - loss: 6.0583 - mae: 6.5745\n",
            "Epoch 35/100\n",
            "31/31 [==============================] - 0s 6ms/step - loss: 6.0611 - mae: 6.5645\n",
            "Epoch 36/100\n",
            "31/31 [==============================] - 0s 6ms/step - loss: 6.1704 - mae: 6.5713\n",
            "Epoch 37/100\n",
            "31/31 [==============================] - 0s 6ms/step - loss: 6.0040 - mae: 6.4973\n",
            "Epoch 38/100\n",
            "31/31 [==============================] - 0s 7ms/step - loss: 5.9913 - mae: 6.4626\n",
            "Epoch 39/100\n",
            "31/31 [==============================] - 0s 6ms/step - loss: 6.0113 - mae: 6.4839\n",
            "Epoch 40/100\n",
            "31/31 [==============================] - 0s 6ms/step - loss: 5.9298 - mae: 6.4778\n",
            "Epoch 41/100\n",
            "31/31 [==============================] - 0s 7ms/step - loss: 5.9232 - mae: 6.4306\n",
            "Epoch 42/100\n",
            "31/31 [==============================] - 0s 6ms/step - loss: 6.0435 - mae: 6.4520\n",
            "Epoch 43/100\n",
            "31/31 [==============================] - 0s 6ms/step - loss: 5.8201 - mae: 6.3424\n",
            "Epoch 44/100\n",
            "31/31 [==============================] - 0s 6ms/step - loss: 5.8016 - mae: 6.2822\n",
            "Epoch 45/100\n",
            "31/31 [==============================] - 0s 6ms/step - loss: 5.8078 - mae: 6.3440\n",
            "Epoch 46/100\n",
            "31/31 [==============================] - 0s 6ms/step - loss: 5.7297 - mae: 6.2242\n",
            "Epoch 47/100\n",
            "31/31 [==============================] - 0s 6ms/step - loss: 5.8888 - mae: 6.2139\n",
            "Epoch 48/100\n",
            "31/31 [==============================] - 0s 6ms/step - loss: 5.7606 - mae: 6.2919\n",
            "Epoch 49/100\n",
            "31/31 [==============================] - 0s 6ms/step - loss: 5.7972 - mae: 6.1907\n",
            "Epoch 50/100\n",
            "31/31 [==============================] - 0s 6ms/step - loss: 5.7809 - mae: 6.1968\n",
            "Epoch 51/100\n",
            "31/31 [==============================] - 0s 6ms/step - loss: 5.6332 - mae: 6.1080\n",
            "Epoch 52/100\n",
            "31/31 [==============================] - 0s 6ms/step - loss: 5.7722 - mae: 6.2584\n",
            "Epoch 53/100\n",
            "31/31 [==============================] - 0s 7ms/step - loss: 5.7713 - mae: 6.2676\n",
            "Epoch 54/100\n",
            "31/31 [==============================] - 0s 6ms/step - loss: 6.0381 - mae: 6.5185\n",
            "Epoch 55/100\n",
            "31/31 [==============================] - 0s 6ms/step - loss: 5.5652 - mae: 5.9984\n",
            "Epoch 56/100\n",
            "31/31 [==============================] - 0s 6ms/step - loss: 5.6631 - mae: 6.1242\n",
            "Epoch 57/100\n",
            "31/31 [==============================] - 0s 6ms/step - loss: 5.7171 - mae: 6.2360\n",
            "Epoch 58/100\n",
            "31/31 [==============================] - 0s 6ms/step - loss: 5.3206 - mae: 5.8181\n",
            "Epoch 59/100\n",
            "31/31 [==============================] - 0s 6ms/step - loss: 5.3923 - mae: 5.9065\n",
            "Epoch 60/100\n",
            "31/31 [==============================] - 0s 6ms/step - loss: 5.1859 - mae: 5.6644\n",
            "Epoch 61/100\n",
            "31/31 [==============================] - 0s 6ms/step - loss: 5.1221 - mae: 5.6746\n",
            "Epoch 62/100\n",
            "31/31 [==============================] - 0s 6ms/step - loss: 5.4965 - mae: 6.0086\n",
            "Epoch 63/100\n",
            "31/31 [==============================] - 0s 6ms/step - loss: 5.3674 - mae: 5.8101\n",
            "Epoch 64/100\n",
            "31/31 [==============================] - 0s 6ms/step - loss: 5.1583 - mae: 5.6622\n",
            "Epoch 65/100\n",
            "31/31 [==============================] - 0s 7ms/step - loss: 4.9482 - mae: 5.4116\n",
            "Epoch 66/100\n",
            "31/31 [==============================] - 0s 6ms/step - loss: 5.1552 - mae: 5.6327\n",
            "Epoch 67/100\n",
            "31/31 [==============================] - 0s 6ms/step - loss: 5.1235 - mae: 5.5683\n",
            "Epoch 68/100\n",
            "31/31 [==============================] - 0s 6ms/step - loss: 4.8412 - mae: 5.3238\n",
            "Epoch 69/100\n",
            "31/31 [==============================] - 0s 6ms/step - loss: 5.2196 - mae: 5.7019\n",
            "Epoch 70/100\n",
            "31/31 [==============================] - 0s 7ms/step - loss: 5.6675 - mae: 6.1803\n",
            "Epoch 71/100\n",
            "31/31 [==============================] - 0s 7ms/step - loss: 5.5677 - mae: 6.0410\n",
            "Epoch 72/100\n",
            "31/31 [==============================] - 0s 6ms/step - loss: 5.2699 - mae: 5.6994\n",
            "Epoch 73/100\n",
            "31/31 [==============================] - 0s 6ms/step - loss: 5.1306 - mae: 5.6447\n",
            "Epoch 74/100\n",
            "31/31 [==============================] - 0s 6ms/step - loss: 5.7346 - mae: 6.1502\n",
            "Epoch 75/100\n",
            "31/31 [==============================] - 0s 6ms/step - loss: 5.6164 - mae: 6.1351\n",
            "Epoch 76/100\n",
            "31/31 [==============================] - 0s 6ms/step - loss: 6.8815 - mae: 7.4302\n",
            "Epoch 77/100\n",
            "31/31 [==============================] - 0s 6ms/step - loss: 6.2242 - mae: 6.7843\n",
            "Epoch 78/100\n",
            "31/31 [==============================] - 0s 6ms/step - loss: 5.1025 - mae: 5.6205\n",
            "Epoch 79/100\n",
            "31/31 [==============================] - 0s 6ms/step - loss: 5.6437 - mae: 6.0563\n",
            "Epoch 80/100\n",
            "31/31 [==============================] - 0s 7ms/step - loss: 7.3148 - mae: 7.8236\n",
            "Epoch 81/100\n",
            "31/31 [==============================] - 0s 7ms/step - loss: 7.6046 - mae: 8.1781\n",
            "Epoch 82/100\n",
            "31/31 [==============================] - 0s 6ms/step - loss: 5.5352 - mae: 6.0190\n",
            "Epoch 83/100\n",
            "31/31 [==============================] - 0s 7ms/step - loss: 6.6693 - mae: 7.1887\n",
            "Epoch 84/100\n",
            "31/31 [==============================] - 0s 6ms/step - loss: 15.4599 - mae: 15.4551\n",
            "Epoch 85/100\n",
            "31/31 [==============================] - 0s 6ms/step - loss: 27.9970 - mae: 27.8559\n",
            "Epoch 86/100\n",
            "31/31 [==============================] - 0s 6ms/step - loss: 42.1694 - mae: 42.4104\n",
            "Epoch 87/100\n",
            "31/31 [==============================] - 0s 6ms/step - loss: 41.0208 - mae: 41.6346\n",
            "Epoch 88/100\n",
            "31/31 [==============================] - 0s 6ms/step - loss: 38.6655 - mae: 38.9659\n",
            "Epoch 89/100\n",
            "31/31 [==============================] - 0s 6ms/step - loss: 40.3603 - mae: 40.7652\n",
            "Epoch 90/100\n",
            "31/31 [==============================] - 0s 6ms/step - loss: 39.3727 - mae: 39.9694\n",
            "Epoch 91/100\n",
            "31/31 [==============================] - 0s 6ms/step - loss: 38.8224 - mae: 39.0831\n",
            "Epoch 92/100\n",
            "31/31 [==============================] - 0s 7ms/step - loss: 34.0550 - mae: 34.3192\n",
            "Epoch 93/100\n",
            "31/31 [==============================] - 0s 7ms/step - loss: 37.1608 - mae: 37.7644\n",
            "Epoch 94/100\n",
            "31/31 [==============================] - 0s 7ms/step - loss: 36.1800 - mae: 36.5574\n",
            "Epoch 95/100\n",
            "31/31 [==============================] - 0s 6ms/step - loss: 34.4588 - mae: 35.0256\n",
            "Epoch 96/100\n",
            "31/31 [==============================] - 0s 6ms/step - loss: 34.3555 - mae: 34.8505\n",
            "Epoch 97/100\n",
            "31/31 [==============================] - 0s 6ms/step - loss: 32.5161 - mae: 33.4182\n",
            "Epoch 98/100\n",
            "31/31 [==============================] - 0s 6ms/step - loss: 30.7266 - mae: 31.2475\n",
            "Epoch 99/100\n",
            "31/31 [==============================] - 0s 7ms/step - loss: 29.2688 - mae: 29.6370\n",
            "Epoch 100/100\n",
            "31/31 [==============================] - 0s 6ms/step - loss: 26.4394 - mae: 27.0587\n"
          ],
          "name": "stdout"
        }
      ]
    },
    {
      "cell_type": "code",
      "metadata": {
        "colab_type": "code",
        "id": "5g-nC_em8OIq",
        "outputId": "d4bf4210-4f3f-4f99-aede-e16e5242d927",
        "colab": {
          "base_uri": "https://localhost:8080/",
          "height": 290
        }
      },
      "source": [
        "plt.semilogx(history.history[\"lr\"], history.history[\"loss\"])\n",
        "plt.axis([1e-7, 5e-3, 0, 50])"
      ],
      "execution_count": 0,
      "outputs": [
        {
          "output_type": "execute_result",
          "data": {
            "text/plain": [
              "[1e-07, 0.005, 0, 50]"
            ]
          },
          "metadata": {
            "tags": []
          },
          "execution_count": 28
        },
        {
          "output_type": "display_data",
          "data": {
            "image/png": "[encoded data removed]",
            "text/plain": [
              "<Figure size 432x288 with 1 Axes>"
            ]
          },
          "metadata": {
            "tags": []
          }
        }
      ]
    },
    {
      "cell_type": "code",
      "metadata": {
        "colab_type": "code",
        "id": "B7t0VrCH8OIr",
        "outputId": "d6db8486-f3aa-4ce0-8182-0b9deb39adcc",
        "colab": {
          "base_uri": "https://localhost:8080/",
          "height": 1000
        }
      },
      "source": [
        "# looks like 10^-5 is still the best learning rate\n",
        "# lets run this again with lr at 10^-5 and early stopping callback\n",
        "\n",
        "keras.backend.clear_session()\n",
        "tf.random.set_seed(42)\n",
        "np.random.seed(42)\n",
        "\n",
        "window_size = 30\n",
        "train_set = window_dataset(x_train, window_size)\n",
        "valid_set = window_dataset(x_valid, window_size)\n",
        "\n",
        "model = keras.models.Sequential([\n",
        "  keras.layers.Dense(10, activation=\"relu\", input_shape=[window_size]),\n",
        "  keras.layers.Dense(10, activation=\"relu\"),\n",
        "  keras.layers.Dense(1)\n",
        "])\n",
        "\n",
        "optimizer = keras.optimizers.SGD(lr=1e-5, momentum=0.9)\n",
        "model.compile(loss=keras.losses.Huber(),\n",
        "              optimizer=optimizer,\n",
        "              metrics=[\"mae\"])\n",
        "early_stopping = keras.callbacks.EarlyStopping(patience=10) # lets add early stopping\n",
        "model.fit(train_set, epochs=500,\n",
        "          validation_data=valid_set,\n",
        "          callbacks=[early_stopping])"
      ],
      "execution_count": 0,
      "outputs": [
        {
          "output_type": "stream",
          "text": [
            "Epoch 1/500\n",
            "31/31 [==============================] - 1s 24ms/step - loss: 20.0335 - mae: 20.8270 - val_loss: 12.7604 - val_mae: 13.4040\n",
            "Epoch 2/500\n",
            "31/31 [==============================] - 0s 10ms/step - loss: 8.6268 - mae: 9.0442 - val_loss: 7.8260 - val_mae: 8.3112\n",
            "Epoch 3/500\n",
            "31/31 [==============================] - 0s 10ms/step - loss: 7.9271 - mae: 8.4718 - val_loss: 7.6869 - val_mae: 8.1423\n",
            "Epoch 4/500\n",
            "31/31 [==============================] - 0s 10ms/step - loss: 7.6027 - mae: 8.1519 - val_loss: 7.1338 - val_mae: 7.4683\n",
            "Epoch 5/500\n",
            "31/31 [==============================] - 0s 9ms/step - loss: 7.3532 - mae: 7.8994 - val_loss: 6.8095 - val_mae: 7.3306\n",
            "Epoch 6/500\n",
            "31/31 [==============================] - 0s 9ms/step - loss: 7.1958 - mae: 7.6983 - val_loss: 6.6906 - val_mae: 7.0048\n",
            "Epoch 7/500\n",
            "31/31 [==============================] - 0s 9ms/step - loss: 7.0248 - mae: 7.5004 - val_loss: 6.5143 - val_mae: 7.0573\n",
            "Epoch 8/500\n",
            "31/31 [==============================] - 0s 9ms/step - loss: 6.8297 - mae: 7.3547 - val_loss: 6.2893 - val_mae: 6.7215\n",
            "Epoch 9/500\n",
            "31/31 [==============================] - 0s 9ms/step - loss: 6.7595 - mae: 7.2260 - val_loss: 6.4960 - val_mae: 6.9264\n",
            "Epoch 10/500\n",
            "31/31 [==============================] - 0s 9ms/step - loss: 6.6379 - mae: 7.0882 - val_loss: 6.0848 - val_mae: 6.5820\n",
            "Epoch 11/500\n",
            "31/31 [==============================] - 0s 10ms/step - loss: 6.5304 - mae: 6.9369 - val_loss: 6.0641 - val_mae: 6.5406\n",
            "Epoch 12/500\n",
            "31/31 [==============================] - 0s 9ms/step - loss: 6.3624 - mae: 6.8727 - val_loss: 6.0199 - val_mae: 6.4553\n",
            "Epoch 13/500\n",
            "31/31 [==============================] - 0s 10ms/step - loss: 6.3025 - mae: 6.7733 - val_loss: 5.9311 - val_mae: 6.4741\n",
            "Epoch 14/500\n",
            "31/31 [==============================] - 0s 10ms/step - loss: 6.2242 - mae: 6.6997 - val_loss: 5.7849 - val_mae: 6.3236\n",
            "Epoch 15/500\n",
            "31/31 [==============================] - 0s 11ms/step - loss: 6.1849 - mae: 6.6597 - val_loss: 5.7738 - val_mae: 6.3508\n",
            "Epoch 16/500\n",
            "31/31 [==============================] - 0s 9ms/step - loss: 6.1755 - mae: 6.6352 - val_loss: 5.9210 - val_mae: 6.2534\n",
            "Epoch 17/500\n",
            "31/31 [==============================] - 0s 9ms/step - loss: 6.1109 - mae: 6.5940 - val_loss: 5.7805 - val_mae: 6.2701\n",
            "Epoch 18/500\n",
            "31/31 [==============================] - 0s 9ms/step - loss: 6.1443 - mae: 6.5912 - val_loss: 5.7978 - val_mae: 6.2107\n",
            "Epoch 19/500\n",
            "31/31 [==============================] - 0s 10ms/step - loss: 5.9822 - mae: 6.4908 - val_loss: 5.7201 - val_mae: 6.2427\n",
            "Epoch 20/500\n",
            "31/31 [==============================] - 0s 9ms/step - loss: 6.1610 - mae: 6.4918 - val_loss: 5.8168 - val_mae: 6.2877\n",
            "Epoch 21/500\n",
            "31/31 [==============================] - 0s 10ms/step - loss: 5.9248 - mae: 6.4129 - val_loss: 5.6254 - val_mae: 6.1871\n",
            "Epoch 22/500\n",
            "31/31 [==============================] - 0s 10ms/step - loss: 5.8937 - mae: 6.3985 - val_loss: 5.7200 - val_mae: 6.1001\n",
            "Epoch 23/500\n",
            "31/31 [==============================] - 0s 9ms/step - loss: 5.8962 - mae: 6.3597 - val_loss: 5.5660 - val_mae: 6.0979\n",
            "Epoch 24/500\n",
            "31/31 [==============================] - 0s 10ms/step - loss: 5.8245 - mae: 6.3047 - val_loss: 6.0413 - val_mae: 6.4770\n",
            "Epoch 25/500\n",
            "31/31 [==============================] - 0s 9ms/step - loss: 5.8322 - mae: 6.3362 - val_loss: 5.7059 - val_mae: 6.1395\n",
            "Epoch 26/500\n",
            "31/31 [==============================] - 0s 9ms/step - loss: 5.7615 - mae: 6.2538 - val_loss: 5.6478 - val_mae: 6.0628\n",
            "Epoch 27/500\n",
            "31/31 [==============================] - 0s 10ms/step - loss: 5.7963 - mae: 6.2852 - val_loss: 5.7291 - val_mae: 6.0319\n",
            "Epoch 28/500\n",
            "31/31 [==============================] - 0s 10ms/step - loss: 5.7183 - mae: 6.2344 - val_loss: 5.7584 - val_mae: 6.2012\n",
            "Epoch 29/500\n",
            "31/31 [==============================] - 0s 10ms/step - loss: 5.7477 - mae: 6.2739 - val_loss: 5.5752 - val_mae: 5.9772\n",
            "Epoch 30/500\n",
            "31/31 [==============================] - 0s 9ms/step - loss: 5.6989 - mae: 6.1969 - val_loss: 5.6866 - val_mae: 6.0996\n",
            "Epoch 31/500\n",
            "31/31 [==============================] - 0s 9ms/step - loss: 5.6727 - mae: 6.1618 - val_loss: 5.4559 - val_mae: 6.0003\n",
            "Epoch 32/500\n",
            "31/31 [==============================] - 0s 9ms/step - loss: 5.6462 - mae: 6.1351 - val_loss: 5.5752 - val_mae: 6.0471\n",
            "Epoch 33/500\n",
            "31/31 [==============================] - 0s 9ms/step - loss: 5.6754 - mae: 6.1323 - val_loss: 5.7538 - val_mae: 6.1338\n",
            "Epoch 34/500\n",
            "31/31 [==============================] - 0s 10ms/step - loss: 5.5633 - mae: 6.0814 - val_loss: 5.5131 - val_mae: 5.9941\n",
            "Epoch 35/500\n",
            "31/31 [==============================] - 0s 9ms/step - loss: 5.6632 - mae: 6.1052 - val_loss: 5.4602 - val_mae: 5.9791\n",
            "Epoch 36/500\n",
            "31/31 [==============================] - 0s 10ms/step - loss: 5.6377 - mae: 6.0515 - val_loss: 5.3360 - val_mae: 5.8488\n",
            "Epoch 37/500\n",
            "31/31 [==============================] - 0s 9ms/step - loss: 5.6181 - mae: 6.0751 - val_loss: 5.3721 - val_mae: 5.8903\n",
            "Epoch 38/500\n",
            "31/31 [==============================] - 0s 9ms/step - loss: 5.6445 - mae: 6.0793 - val_loss: 5.4918 - val_mae: 5.9636\n",
            "Epoch 39/500\n",
            "31/31 [==============================] - 0s 9ms/step - loss: 5.5929 - mae: 6.0607 - val_loss: 5.7866 - val_mae: 6.2465\n",
            "Epoch 40/500\n",
            "31/31 [==============================] - 0s 9ms/step - loss: 5.4695 - mae: 5.9988 - val_loss: 6.0022 - val_mae: 6.5557\n",
            "Epoch 41/500\n",
            "31/31 [==============================] - 0s 9ms/step - loss: 5.5238 - mae: 6.0155 - val_loss: 5.3899 - val_mae: 5.8099\n",
            "Epoch 42/500\n",
            "31/31 [==============================] - 0s 9ms/step - loss: 5.5160 - mae: 5.9916 - val_loss: 5.3427 - val_mae: 5.7782\n",
            "Epoch 43/500\n",
            "31/31 [==============================] - 0s 9ms/step - loss: 5.4636 - mae: 5.9490 - val_loss: 5.3604 - val_mae: 5.7902\n",
            "Epoch 44/500\n",
            "31/31 [==============================] - 0s 8ms/step - loss: 5.4121 - mae: 5.9382 - val_loss: 5.2720 - val_mae: 5.7695\n",
            "Epoch 45/500\n",
            "31/31 [==============================] - 0s 9ms/step - loss: 5.3824 - mae: 5.9146 - val_loss: 5.3447 - val_mae: 5.8274\n",
            "Epoch 46/500\n",
            "31/31 [==============================] - 0s 10ms/step - loss: 5.4062 - mae: 5.9167 - val_loss: 5.6317 - val_mae: 6.1132\n",
            "Epoch 47/500\n",
            "31/31 [==============================] - 0s 10ms/step - loss: 5.5081 - mae: 5.9391 - val_loss: 5.8032 - val_mae: 6.2175\n",
            "Epoch 48/500\n",
            "31/31 [==============================] - 0s 9ms/step - loss: 5.4701 - mae: 5.9673 - val_loss: 5.8835 - val_mae: 6.3931\n",
            "Epoch 49/500\n",
            "31/31 [==============================] - 0s 9ms/step - loss: 5.5169 - mae: 5.9007 - val_loss: 5.1272 - val_mae: 5.6883\n",
            "Epoch 50/500\n",
            "31/31 [==============================] - 0s 10ms/step - loss: 5.3756 - mae: 5.8614 - val_loss: 5.3538 - val_mae: 5.7832\n",
            "Epoch 51/500\n",
            "31/31 [==============================] - 0s 9ms/step - loss: 5.4109 - mae: 5.9051 - val_loss: 5.4589 - val_mae: 5.9543\n",
            "Epoch 52/500\n",
            "31/31 [==============================] - 0s 9ms/step - loss: 5.3796 - mae: 5.8668 - val_loss: 5.5352 - val_mae: 5.9324\n",
            "Epoch 53/500\n",
            "31/31 [==============================] - 0s 10ms/step - loss: 5.3472 - mae: 5.8626 - val_loss: 5.4992 - val_mae: 6.0145\n",
            "Epoch 54/500\n",
            "31/31 [==============================] - 0s 8ms/step - loss: 5.4344 - mae: 5.8423 - val_loss: 5.1820 - val_mae: 5.7020\n",
            "Epoch 55/500\n",
            "31/31 [==============================] - 0s 9ms/step - loss: 5.3682 - mae: 5.8267 - val_loss: 5.0991 - val_mae: 5.6574\n",
            "Epoch 56/500\n",
            "31/31 [==============================] - 0s 9ms/step - loss: 5.2826 - mae: 5.7591 - val_loss: 5.2834 - val_mae: 5.6428\n",
            "Epoch 57/500\n",
            "31/31 [==============================] - 0s 9ms/step - loss: 5.2222 - mae: 5.7371 - val_loss: 5.3954 - val_mae: 5.9134\n",
            "Epoch 58/500\n",
            "31/31 [==============================] - 0s 9ms/step - loss: 5.3262 - mae: 5.8185 - val_loss: 5.6430 - val_mae: 6.2249\n",
            "Epoch 59/500\n",
            "31/31 [==============================] - 0s 9ms/step - loss: 5.2107 - mae: 5.7497 - val_loss: 5.1895 - val_mae: 5.6884\n",
            "Epoch 60/500\n",
            "31/31 [==============================] - 0s 10ms/step - loss: 5.1867 - mae: 5.7125 - val_loss: 5.2354 - val_mae: 5.7014\n",
            "Epoch 61/500\n",
            "31/31 [==============================] - 0s 9ms/step - loss: 5.2114 - mae: 5.7478 - val_loss: 5.0770 - val_mae: 5.5562\n",
            "Epoch 62/500\n",
            "31/31 [==============================] - 0s 8ms/step - loss: 5.1879 - mae: 5.6922 - val_loss: 5.6824 - val_mae: 6.1642\n",
            "Epoch 63/500\n",
            "31/31 [==============================] - 0s 10ms/step - loss: 5.3061 - mae: 5.7429 - val_loss: 5.1320 - val_mae: 5.5780\n",
            "Epoch 64/500\n",
            "31/31 [==============================] - 0s 10ms/step - loss: 5.1963 - mae: 5.6699 - val_loss: 5.0222 - val_mae: 5.5532\n",
            "Epoch 65/500\n",
            "31/31 [==============================] - 0s 9ms/step - loss: 5.1999 - mae: 5.6580 - val_loss: 5.3494 - val_mae: 5.7631\n",
            "Epoch 66/500\n",
            "31/31 [==============================] - 0s 9ms/step - loss: 5.1969 - mae: 5.6892 - val_loss: 5.0385 - val_mae: 5.5249\n",
            "Epoch 67/500\n",
            "31/31 [==============================] - 0s 10ms/step - loss: 5.1620 - mae: 5.6555 - val_loss: 5.1523 - val_mae: 5.6570\n",
            "Epoch 68/500\n",
            "31/31 [==============================] - 0s 9ms/step - loss: 5.1490 - mae: 5.6367 - val_loss: 4.9760 - val_mae: 5.5124\n",
            "Epoch 69/500\n",
            "31/31 [==============================] - 0s 8ms/step - loss: 5.1746 - mae: 5.6393 - val_loss: 4.9946 - val_mae: 5.4977\n",
            "Epoch 70/500\n",
            "31/31 [==============================] - 0s 9ms/step - loss: 5.1411 - mae: 5.6346 - val_loss: 5.0576 - val_mae: 5.5614\n",
            "Epoch 71/500\n",
            "31/31 [==============================] - 0s 9ms/step - loss: 5.1184 - mae: 5.6109 - val_loss: 5.1781 - val_mae: 5.7201\n",
            "Epoch 72/500\n",
            "31/31 [==============================] - 0s 9ms/step - loss: 5.1235 - mae: 5.5622 - val_loss: 5.0378 - val_mae: 5.5018\n",
            "Epoch 73/500\n",
            "31/31 [==============================] - 0s 9ms/step - loss: 5.0683 - mae: 5.5692 - val_loss: 5.1346 - val_mae: 5.6035\n",
            "Epoch 74/500\n",
            "31/31 [==============================] - 0s 9ms/step - loss: 5.1340 - mae: 5.5938 - val_loss: 5.0276 - val_mae: 5.5107\n",
            "Epoch 75/500\n",
            "31/31 [==============================] - 0s 9ms/step - loss: 5.1112 - mae: 5.5920 - val_loss: 4.9851 - val_mae: 5.5049\n",
            "Epoch 76/500\n",
            "31/31 [==============================] - 0s 9ms/step - loss: 5.0530 - mae: 5.5327 - val_loss: 5.0102 - val_mae: 5.4535\n",
            "Epoch 77/500\n",
            "31/31 [==============================] - 0s 9ms/step - loss: 5.0019 - mae: 5.5270 - val_loss: 4.8956 - val_mae: 5.4438\n",
            "Epoch 78/500\n",
            "31/31 [==============================] - 0s 10ms/step - loss: 5.0303 - mae: 5.5172 - val_loss: 4.9816 - val_mae: 5.4619\n",
            "Epoch 79/500\n",
            "31/31 [==============================] - 0s 10ms/step - loss: 5.1155 - mae: 5.5417 - val_loss: 4.9206 - val_mae: 5.4661\n",
            "Epoch 80/500\n",
            "31/31 [==============================] - 0s 9ms/step - loss: 5.0969 - mae: 5.4956 - val_loss: 5.1670 - val_mae: 5.6963\n",
            "Epoch 81/500\n",
            "31/31 [==============================] - 0s 9ms/step - loss: 5.0067 - mae: 5.5083 - val_loss: 4.9603 - val_mae: 5.4533\n",
            "Epoch 82/500\n",
            "31/31 [==============================] - 0s 9ms/step - loss: 4.9394 - mae: 5.4397 - val_loss: 4.9296 - val_mae: 5.4431\n",
            "Epoch 83/500\n",
            "31/31 [==============================] - 0s 9ms/step - loss: 4.9673 - mae: 5.4727 - val_loss: 5.2480 - val_mae: 5.6862\n",
            "Epoch 84/500\n",
            "31/31 [==============================] - 0s 9ms/step - loss: 4.9953 - mae: 5.4508 - val_loss: 5.0421 - val_mae: 5.4961\n",
            "Epoch 85/500\n",
            "31/31 [==============================] - 0s 9ms/step - loss: 4.9178 - mae: 5.4485 - val_loss: 4.9173 - val_mae: 5.4085\n",
            "Epoch 86/500\n",
            "31/31 [==============================] - 0s 9ms/step - loss: 4.9098 - mae: 5.4449 - val_loss: 4.9913 - val_mae: 5.4046\n",
            "Epoch 87/500\n",
            "31/31 [==============================] - 0s 10ms/step - loss: 5.0023 - mae: 5.4681 - val_loss: 4.9118 - val_mae: 5.4093\n"
          ],
          "name": "stdout"
        },
        {
          "output_type": "execute_result",
          "data": {
            "text/plain": [
              "<tensorflow.python.keras.callbacks.History at 0x7fd1dfc970f0>"
            ]
          },
          "metadata": {
            "tags": []
          },
          "execution_count": 30
        }
      ]
    },
    {
      "cell_type": "code",
      "metadata": {
        "colab_type": "code",
        "id": "RqQbX6DZ8OIu",
        "colab": {}
      },
      "source": [
        "# do the forecast\n",
        "\n",
        "dense_forecast = model_forecast(\n",
        "    model,\n",
        "    series[split_time - window_size:-1],\n",
        "    window_size)[:, 0]"
      ],
      "execution_count": 0,
      "outputs": []
    },
    {
      "cell_type": "code",
      "metadata": {
        "colab_type": "code",
        "id": "98zwAuIo8OIv",
        "outputId": "09251632-a3b8-4416-b611-a265e34ab2d0",
        "colab": {
          "base_uri": "https://localhost:8080/",
          "height": 388
        }
      },
      "source": [
        "# plot predictions against validation set\n",
        "\n",
        "plt.figure(figsize=(10, 6))\n",
        "plot_series(time_valid, x_valid)\n",
        "plot_series(time_valid, dense_forecast)"
      ],
      "execution_count": 0,
      "outputs": [
        {
          "output_type": "display_data",
          "data": {
            "image/png": "[encoded data removed]",
            "text/plain": [
              "<Figure size 720x432 with 1 Axes>"
            ]
          },
          "metadata": {
            "tags": []
          }
        }
      ]
    },
    {
      "cell_type": "code",
      "metadata": {
        "colab_type": "code",
        "id": "EgkELN-58OIw",
        "outputId": "353326e9-96a0-46b0-81c1-a792ec5badd6",
        "colab": {
          "base_uri": "https://localhost:8080/",
          "height": 34
        }
      },
      "source": [
        "keras.metrics.mean_absolute_error(x_valid, dense_forecast).numpy()"
      ],
      "execution_count": 0,
      "outputs": [
        {
          "output_type": "execute_result",
          "data": {
            "text/plain": [
              "5.2994742"
            ]
          },
          "metadata": {
            "tags": []
          },
          "execution_count": 33
        }
      ]
    },
    {
      "cell_type": "code",
      "metadata": {
        "colab_type": "code",
        "id": "ZxfNRrkrIjmA",
        "colab": {}
      },
      "source": [
        "# the mae improved"
      ],
      "execution_count": 0,
      "outputs": []
    },
    {
      "cell_type": "code",
      "metadata": {
        "id": "U7il348xbf94",
        "colab_type": "code",
        "colab": {}
      },
      "source": [
        ""
      ],
      "execution_count": 0,
      "outputs": []
    }
  ]
}