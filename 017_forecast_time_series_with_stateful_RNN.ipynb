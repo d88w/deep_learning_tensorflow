{
  "nbformat": 4,
  "nbformat_minor": 0,
  "metadata": {
    "colab": {
      "name": "017_forecasting_time_series_with_stateful_RNN.ipynb",
      "provenance": [],
      "collapsed_sections": [],
      "toc_visible": true
    },
    "kernelspec": {
      "name": "python3",
      "display_name": "Python 3"
    }
  },
  "cells": [
    {
      "cell_type": "markdown",
      "metadata": {
        "colab_type": "text",
        "id": "eJoEl2FhixRp"
      },
      "source": [
        "# Forecasting with a stateful RNN"
      ]
    },
    {
      "cell_type": "markdown",
      "metadata": {
        "colab_type": "text",
        "id": "w3Hibo73h236"
      },
      "source": [
        "<table class=\"tfo-notebook-buttons\" align=\"left\">\n",
        "  <td>\n",
        "    <a target=\"_blank\" href=\"https://colab.research.google.com/github/tensorflow/examples/blob/master/courses/udacity_intro_to_tensorflow_for_deep_learning/l08c07_forecasting_with_stateful_rnn.ipynb\"><img src=\"https://www.tensorflow.org/images/colab_logo_32px.png\" />Run in Google Colab</a>\n",
        "  </td>\n",
        "  <td>\n",
        "    <a target=\"_blank\" href=\"https://github.com/tensorflow/examples/blob/master/courses/udacity_intro_to_tensorflow_for_deep_learning/l08c07_forecasting_with_stateful_rnn.ipynb\"><img src=\"https://www.tensorflow.org/images/GitHub-Mark-32px.png\" />View source on GitHub</a>\n",
        "  </td>\n",
        "</table>"
      ]
    },
    {
      "cell_type": "markdown",
      "metadata": {
        "colab_type": "text",
        "id": "vidayERjaO5q"
      },
      "source": [
        "## Setup"
      ]
    },
    {
      "cell_type": "code",
      "metadata": {
        "id": "qlYy4XCm64pV",
        "colab_type": "code",
        "colab": {}
      },
      "source": [
        "# set up is just creating the data"
      ],
      "execution_count": 0,
      "outputs": []
    },
    {
      "cell_type": "code",
      "metadata": {
        "colab_type": "code",
        "id": "_IWXFQrAv2n3",
        "colab": {}
      },
      "source": [
        "from __future__ import absolute_import, division, print_function, unicode_literals"
      ],
      "execution_count": 0,
      "outputs": []
    },
    {
      "cell_type": "code",
      "metadata": {
        "colab_type": "code",
        "id": "_j5QXKcF1yZY",
        "outputId": "bf722c43-9ab6-4475-9876-15ee7ccd5a29",
        "colab": {
          "base_uri": "https://localhost:8080/",
          "height": 34
        }
      },
      "source": [
        "try:\n",
        "  # Use the %tensorflow_version magic if in colab.\n",
        "  %tensorflow_version 2.x\n",
        "except Exception:\n",
        "  pass"
      ],
      "execution_count": 0,
      "outputs": [
        {
          "output_type": "stream",
          "text": [
            "TensorFlow 2.x selected.\n"
          ],
          "name": "stdout"
        }
      ]
    },
    {
      "cell_type": "code",
      "metadata": {
        "colab_type": "code",
        "id": "gqWabzlJ63nL",
        "colab": {}
      },
      "source": [
        "import numpy as np\n",
        "import matplotlib.pyplot as plt\n",
        "import tensorflow as tf\n",
        "\n",
        "keras = tf.keras"
      ],
      "execution_count": 0,
      "outputs": []
    },
    {
      "cell_type": "code",
      "metadata": {
        "colab_type": "code",
        "id": "cg1hfKCPldZG",
        "colab": {}
      },
      "source": [
        "def plot_series(time, series, format=\"-\", start=0, end=None, label=None):\n",
        "    plt.plot(time[start:end], series[start:end], format, label=label)\n",
        "    plt.xlabel(\"Time\")\n",
        "    plt.ylabel(\"Value\")\n",
        "    if label:\n",
        "        plt.legend(fontsize=14)\n",
        "    plt.grid(True)\n",
        "    \n",
        "def trend(time, slope=0):\n",
        "    return slope * time\n",
        "  \n",
        "  \n",
        "def seasonal_pattern(season_time):\n",
        "    \"\"\"Just an arbitrary pattern, you can change it if you wish\"\"\"\n",
        "    return np.where(season_time < 0.4,\n",
        "                    np.cos(season_time * 2 * np.pi),\n",
        "                    1 / np.exp(3 * season_time))\n",
        "\n",
        "  \n",
        "def seasonality(time, period, amplitude=1, phase=0):\n",
        "    \"\"\"Repeats the same pattern at each period\"\"\"\n",
        "    season_time = ((time + phase) % period) / period\n",
        "    return amplitude * seasonal_pattern(season_time)\n",
        "  \n",
        "  \n",
        "def white_noise(time, noise_level=1, seed=None):\n",
        "    rnd = np.random.RandomState(seed)\n",
        "    return rnd.randn(len(time)) * noise_level"
      ],
      "execution_count": 0,
      "outputs": []
    },
    {
      "cell_type": "code",
      "metadata": {
        "colab_type": "code",
        "id": "iL2DDjV3lel6",
        "outputId": "03410660-44ee-4f75-a6b6-8c04492c35c9",
        "colab": {
          "base_uri": "https://localhost:8080/",
          "height": 388
        }
      },
      "source": [
        "time = np.arange(4 * 365 + 1)\n",
        "\n",
        "slope = 0.05\n",
        "baseline = 10\n",
        "amplitude = 40\n",
        "series = baseline + trend(time, slope) + seasonality(time, period=365, amplitude=amplitude)\n",
        "\n",
        "noise_level = 5\n",
        "noise = white_noise(time, noise_level, seed=42)\n",
        "\n",
        "series += noise\n",
        "\n",
        "plt.figure(figsize=(10, 6))\n",
        "plot_series(time, series)\n",
        "plt.show()"
      ],
      "execution_count": 0,
      "outputs": [
        {
          "output_type": "display_data",
          "data": {
            "image/png": "[encoded data removed]",
            "text/plain": [
              "<Figure size 720x432 with 1 Axes>"
            ]
          },
          "metadata": {
            "tags": []
          }
        }
      ]
    },
    {
      "cell_type": "code",
      "metadata": {
        "colab_type": "code",
        "id": "Zmp1JXKxk9Vb",
        "colab": {}
      },
      "source": [
        "split_time = 1000\n",
        "time_train = time[:split_time]\n",
        "x_train = series[:split_time]\n",
        "time_valid = time[split_time:]\n",
        "x_valid = series[split_time:]"
      ],
      "execution_count": 0,
      "outputs": []
    },
    {
      "cell_type": "markdown",
      "metadata": {
        "colab_type": "text",
        "id": "43Entmgk8OJC"
      },
      "source": [
        "## Stateful RNN Forecasting"
      ]
    },
    {
      "cell_type": "code",
      "metadata": {
        "colab_type": "code",
        "id": "ezzIGpsq8OJC",
        "colab": {}
      },
      "source": [
        "# To implement a stateful RNN, we need to:\n",
        "# 1. Shift = window size\n",
        "# 2. batch(1)\n",
        "# 3. Dont shuffle\n",
        "\n",
        "def sequential_window_dataset(series, window_size):\n",
        "    series = tf.expand_dims(series, axis=-1)\n",
        "    ds = tf.data.Dataset.from_tensor_slices(series)\n",
        "    ds = ds.window(window_size + 1, shift=window_size, drop_remainder=True)\n",
        "    ds = ds.flat_map(lambda window: window.batch(window_size + 1))\n",
        "    ds = ds.map(lambda window: (window[:-1], window[1:]))\n",
        "    return ds.batch(1).prefetch(1)"
      ],
      "execution_count": 0,
      "outputs": []
    },
    {
      "cell_type": "code",
      "metadata": {
        "colab_type": "code",
        "id": "cC2hh-Dn8OJD",
        "outputId": "4b44c511-4a8c-4712-c4bc-1a4d70912e30",
        "colab": {
          "base_uri": "https://localhost:8080/",
          "height": 272
        }
      },
      "source": [
        "for X_batch, y_batch in sequential_window_dataset(tf.range(10), 3):\n",
        "    print(X_batch.numpy(), y_batch.numpy())"
      ],
      "execution_count": 0,
      "outputs": [
        {
          "output_type": "stream",
          "text": [
            "[[[0]\n",
            "  [1]\n",
            "  [2]]] [[[1]\n",
            "  [2]\n",
            "  [3]]]\n",
            "[[[3]\n",
            "  [4]\n",
            "  [5]]] [[[4]\n",
            "  [5]\n",
            "  [6]]]\n",
            "[[[6]\n",
            "  [7]\n",
            "  [8]]] [[[7]\n",
            "  [8]\n",
            "  [9]]]\n"
          ],
          "name": "stdout"
        }
      ]
    },
    {
      "cell_type": "code",
      "metadata": {
        "colab_type": "code",
        "id": "CHCYhVvl8OJE",
        "colab": {}
      },
      "source": [
        "# create this class to reset the state at the beginning of each epoch:\n",
        "\n",
        "class ResetStatesCallback(keras.callbacks.Callback):\n",
        "    def on_epoch_begin(self, epoch, logs):\n",
        "        self.model.reset_states()"
      ],
      "execution_count": 0,
      "outputs": []
    },
    {
      "cell_type": "code",
      "metadata": {
        "colab_type": "code",
        "id": "g03h-KGJ8OJF",
        "outputId": "0b962b89-6a6a-4aa3-a9e3-6995ef91a82e",
        "colab": {
          "base_uri": "https://localhost:8080/",
          "height": 1000
        }
      },
      "source": [
        "# first figure out learning rate\n",
        "\n",
        "keras.backend.clear_session()\n",
        "tf.random.set_seed(42)\n",
        "np.random.seed(42)\n",
        "\n",
        "window_size = 30\n",
        "train_set = sequential_window_dataset(x_train, window_size)\n",
        "\n",
        "model = keras.models.Sequential([\n",
        "  keras.layers.SimpleRNN(100, return_sequences=True, stateful=True,  # Use this function => Stateful = True\n",
        "                         batch_input_shape=[1, None, 1]),  # Use this function => batch_input_shape = [1, None, 1]\n",
        "  keras.layers.SimpleRNN(100, return_sequences=True, stateful=True), \n",
        "  keras.layers.Dense(1),\n",
        "  keras.layers.Lambda(lambda x: x * 200.0)\n",
        "])\n",
        "\n",
        "lr_schedule = keras.callbacks.LearningRateScheduler(      # learning rate schedule to figure out the best learning rate\n",
        "    lambda epoch: 1e-8 * 10**(epoch / 30))\n",
        "\n",
        "reset_states = ResetStatesCallback()  # reset the state at the beginning of each epoch:\n",
        "\n",
        "optimizer = keras.optimizers.SGD(lr=1e-8, momentum=0.9)\n",
        "model.compile(loss=keras.losses.Huber(),\n",
        "              optimizer=optimizer,\n",
        "              metrics=[\"mae\"])\n",
        "history = model.fit(train_set, epochs=100,\n",
        "                    callbacks=[lr_schedule, reset_states])"
      ],
      "execution_count": 0,
      "outputs": [
        {
          "output_type": "stream",
          "text": [
            "Epoch 1/100\n",
            "33/33 [==============================] - 2s 53ms/step - loss: 105.9340 - mae: 106.4340\n",
            "Epoch 2/100\n",
            "33/33 [==============================] - 0s 12ms/step - loss: 70.8572 - mae: 71.3571\n",
            "Epoch 3/100\n",
            "33/33 [==============================] - 0s 12ms/step - loss: 39.8080 - mae: 40.3047\n",
            "Epoch 4/100\n",
            "33/33 [==============================] - 0s 12ms/step - loss: 27.3450 - mae: 27.8404\n",
            "Epoch 5/100\n",
            "33/33 [==============================] - 0s 12ms/step - loss: 24.4956 - mae: 24.9892\n",
            "Epoch 6/100\n",
            "33/33 [==============================] - 0s 11ms/step - loss: 23.2601 - mae: 23.7517\n",
            "Epoch 7/100\n",
            "33/33 [==============================] - 0s 12ms/step - loss: 22.0604 - mae: 22.5533\n",
            "Epoch 8/100\n",
            "33/33 [==============================] - 0s 12ms/step - loss: 20.8543 - mae: 21.3463\n",
            "Epoch 9/100\n",
            "33/33 [==============================] - 0s 12ms/step - loss: 19.8307 - mae: 20.3245\n",
            "Epoch 10/100\n",
            "33/33 [==============================] - 0s 12ms/step - loss: 18.9399 - mae: 19.4319\n",
            "Epoch 11/100\n",
            "33/33 [==============================] - 0s 12ms/step - loss: 18.2618 - mae: 18.7534\n",
            "Epoch 12/100\n",
            "33/33 [==============================] - 0s 12ms/step - loss: 17.8208 - mae: 18.3103\n",
            "Epoch 13/100\n",
            "33/33 [==============================] - 0s 12ms/step - loss: 17.5456 - mae: 18.0350\n",
            "Epoch 14/100\n",
            "33/33 [==============================] - 0s 12ms/step - loss: 17.3178 - mae: 17.8066\n",
            "Epoch 15/100\n",
            "33/33 [==============================] - 0s 12ms/step - loss: 17.1075 - mae: 17.5962\n",
            "Epoch 16/100\n",
            "33/33 [==============================] - 0s 11ms/step - loss: 16.8930 - mae: 17.3833\n",
            "Epoch 17/100\n",
            "33/33 [==============================] - 0s 12ms/step - loss: 16.6635 - mae: 17.1554\n",
            "Epoch 18/100\n",
            "33/33 [==============================] - 0s 11ms/step - loss: 16.4183 - mae: 16.9092\n",
            "Epoch 19/100\n",
            "33/33 [==============================] - 0s 12ms/step - loss: 16.1545 - mae: 16.6440\n",
            "Epoch 20/100\n",
            "33/33 [==============================] - 0s 12ms/step - loss: 15.8707 - mae: 16.3592\n",
            "Epoch 21/100\n",
            "33/33 [==============================] - 0s 12ms/step - loss: 15.5813 - mae: 16.0698\n",
            "Epoch 22/100\n",
            "33/33 [==============================] - 0s 12ms/step - loss: 15.2826 - mae: 15.7715\n",
            "Epoch 23/100\n",
            "33/33 [==============================] - 0s 12ms/step - loss: 14.9790 - mae: 15.4695\n",
            "Epoch 24/100\n",
            "33/33 [==============================] - 0s 12ms/step - loss: 14.6615 - mae: 15.1514\n",
            "Epoch 25/100\n",
            "33/33 [==============================] - 0s 12ms/step - loss: 14.3330 - mae: 14.8220\n",
            "Epoch 26/100\n",
            "33/33 [==============================] - 0s 12ms/step - loss: 13.9788 - mae: 14.4693\n",
            "Epoch 27/100\n",
            "33/33 [==============================] - 0s 12ms/step - loss: 13.5955 - mae: 14.0828\n",
            "Epoch 28/100\n",
            "33/33 [==============================] - 0s 12ms/step - loss: 13.2027 - mae: 13.6894\n",
            "Epoch 29/100\n",
            "33/33 [==============================] - 0s 12ms/step - loss: 12.8240 - mae: 13.3102\n",
            "Epoch 30/100\n",
            "33/33 [==============================] - 0s 11ms/step - loss: 12.4855 - mae: 12.9692\n",
            "Epoch 31/100\n",
            "33/33 [==============================] - 0s 12ms/step - loss: 12.1524 - mae: 12.6349\n",
            "Epoch 32/100\n",
            "33/33 [==============================] - 0s 12ms/step - loss: 11.8552 - mae: 12.3387\n",
            "Epoch 33/100\n",
            "33/33 [==============================] - 0s 12ms/step - loss: 11.5994 - mae: 12.0845\n",
            "Epoch 34/100\n",
            "33/33 [==============================] - 0s 11ms/step - loss: 11.3511 - mae: 11.8377\n",
            "Epoch 35/100\n",
            "33/33 [==============================] - 0s 12ms/step - loss: 11.0647 - mae: 11.5519\n",
            "Epoch 36/100\n",
            "33/33 [==============================] - 0s 12ms/step - loss: 10.7654 - mae: 11.2513\n",
            "Epoch 37/100\n",
            "33/33 [==============================] - 0s 11ms/step - loss: 10.4346 - mae: 10.9200\n",
            "Epoch 38/100\n",
            "33/33 [==============================] - 0s 12ms/step - loss: 10.0617 - mae: 10.5416\n",
            "Epoch 39/100\n",
            "33/33 [==============================] - 0s 12ms/step - loss: 9.8111 - mae: 10.2907\n",
            "Epoch 40/100\n",
            "33/33 [==============================] - 0s 12ms/step - loss: 9.7208 - mae: 10.2041\n",
            "Epoch 41/100\n",
            "33/33 [==============================] - 0s 11ms/step - loss: 9.5675 - mae: 10.0504\n",
            "Epoch 42/100\n",
            "33/33 [==============================] - 0s 12ms/step - loss: 9.4666 - mae: 9.9516\n",
            "Epoch 43/100\n",
            "33/33 [==============================] - 0s 12ms/step - loss: 9.1888 - mae: 9.6736\n",
            "Epoch 44/100\n",
            "33/33 [==============================] - 0s 12ms/step - loss: 9.1645 - mae: 9.6502\n",
            "Epoch 45/100\n",
            "33/33 [==============================] - 0s 12ms/step - loss: 9.0252 - mae: 9.5096\n",
            "Epoch 46/100\n",
            "33/33 [==============================] - 0s 12ms/step - loss: 8.9602 - mae: 9.4418\n",
            "Epoch 47/100\n",
            "33/33 [==============================] - 0s 12ms/step - loss: 8.7674 - mae: 9.2507\n",
            "Epoch 48/100\n",
            "33/33 [==============================] - 0s 11ms/step - loss: 8.7665 - mae: 9.2488\n",
            "Epoch 49/100\n",
            "33/33 [==============================] - 0s 13ms/step - loss: 9.2734 - mae: 9.7595\n",
            "Epoch 50/100\n",
            "33/33 [==============================] - 0s 11ms/step - loss: 9.4915 - mae: 9.9778\n",
            "Epoch 51/100\n",
            "33/33 [==============================] - 0s 12ms/step - loss: 8.4912 - mae: 8.9761\n",
            "Epoch 52/100\n",
            "33/33 [==============================] - 0s 11ms/step - loss: 8.2835 - mae: 8.7680\n",
            "Epoch 53/100\n",
            "33/33 [==============================] - 0s 13ms/step - loss: 9.8085 - mae: 10.2946\n",
            "Epoch 54/100\n",
            "33/33 [==============================] - 0s 11ms/step - loss: 8.9985 - mae: 9.4829\n",
            "Epoch 55/100\n",
            "33/33 [==============================] - 0s 12ms/step - loss: 10.5290 - mae: 11.0181\n",
            "Epoch 56/100\n",
            "33/33 [==============================] - 0s 12ms/step - loss: 7.9343 - mae: 8.4118\n",
            "Epoch 57/100\n",
            "33/33 [==============================] - 0s 12ms/step - loss: 7.9719 - mae: 8.4561\n",
            "Epoch 58/100\n",
            "33/33 [==============================] - 0s 12ms/step - loss: 8.4462 - mae: 8.9327\n",
            "Epoch 59/100\n",
            "33/33 [==============================] - 0s 12ms/step - loss: 7.0628 - mae: 7.5439\n",
            "Epoch 60/100\n",
            "33/33 [==============================] - 0s 12ms/step - loss: 10.0376 - mae: 10.5221\n",
            "Epoch 61/100\n",
            "33/33 [==============================] - 0s 12ms/step - loss: 9.7428 - mae: 10.2321\n",
            "Epoch 62/100\n",
            "33/33 [==============================] - 0s 12ms/step - loss: 11.4014 - mae: 11.8934\n",
            "Epoch 63/100\n",
            "33/33 [==============================] - 0s 12ms/step - loss: 10.2682 - mae: 10.7611\n",
            "Epoch 64/100\n",
            "33/33 [==============================] - 0s 12ms/step - loss: 10.0307 - mae: 10.5229\n",
            "Epoch 65/100\n",
            "33/33 [==============================] - 0s 12ms/step - loss: 9.9132 - mae: 10.3982\n",
            "Epoch 66/100\n",
            "33/33 [==============================] - 0s 12ms/step - loss: 12.2479 - mae: 12.7389\n",
            "Epoch 67/100\n",
            "33/33 [==============================] - 0s 12ms/step - loss: 11.8604 - mae: 12.3493\n",
            "Epoch 68/100\n",
            "33/33 [==============================] - 0s 12ms/step - loss: 11.5977 - mae: 12.0885\n",
            "Epoch 69/100\n",
            "33/33 [==============================] - 0s 11ms/step - loss: 16.4848 - mae: 16.9765\n",
            "Epoch 70/100\n",
            "33/33 [==============================] - 0s 12ms/step - loss: 15.4194 - mae: 15.9144\n",
            "Epoch 71/100\n",
            "33/33 [==============================] - 0s 11ms/step - loss: 13.4532 - mae: 13.9442\n",
            "Epoch 72/100\n",
            "33/33 [==============================] - 0s 12ms/step - loss: 12.9985 - mae: 13.4890\n",
            "Epoch 73/100\n",
            "33/33 [==============================] - 0s 12ms/step - loss: 13.5730 - mae: 14.0676\n",
            "Epoch 74/100\n",
            "33/33 [==============================] - 0s 13ms/step - loss: 17.8611 - mae: 18.3561\n",
            "Epoch 75/100\n",
            "33/33 [==============================] - 0s 12ms/step - loss: 21.6740 - mae: 22.1681\n",
            "Epoch 76/100\n",
            "33/33 [==============================] - 0s 12ms/step - loss: 16.9801 - mae: 17.4752\n",
            "Epoch 77/100\n",
            "33/33 [==============================] - 0s 12ms/step - loss: 22.1359 - mae: 22.6295\n",
            "Epoch 78/100\n",
            "33/33 [==============================] - 0s 12ms/step - loss: 16.6822 - mae: 17.1770\n",
            "Epoch 79/100\n",
            "33/33 [==============================] - 0s 13ms/step - loss: 21.8664 - mae: 22.3642\n",
            "Epoch 80/100\n",
            "33/33 [==============================] - 0s 12ms/step - loss: 16.8800 - mae: 17.3725\n",
            "Epoch 81/100\n",
            "33/33 [==============================] - 0s 12ms/step - loss: 18.3910 - mae: 18.8862\n",
            "Epoch 82/100\n",
            "33/33 [==============================] - 0s 12ms/step - loss: 25.2486 - mae: 25.7441\n",
            "Epoch 83/100\n",
            "33/33 [==============================] - 0s 12ms/step - loss: 32.5994 - mae: 33.0967\n",
            "Epoch 84/100\n",
            "33/33 [==============================] - 0s 12ms/step - loss: 17.2800 - mae: 17.7747\n",
            "Epoch 85/100\n",
            "33/33 [==============================] - 0s 12ms/step - loss: 21.5609 - mae: 22.0530\n",
            "Epoch 86/100\n",
            "33/33 [==============================] - 0s 13ms/step - loss: 30.6001 - mae: 31.0970\n",
            "Epoch 87/100\n",
            "33/33 [==============================] - 0s 11ms/step - loss: 33.3995 - mae: 33.8972\n",
            "Epoch 88/100\n",
            "33/33 [==============================] - 0s 12ms/step - loss: 38.3802 - mae: 38.8771\n",
            "Epoch 89/100\n",
            "33/33 [==============================] - 0s 12ms/step - loss: 38.9918 - mae: 39.4888\n",
            "Epoch 90/100\n",
            "33/33 [==============================] - 0s 12ms/step - loss: 36.4820 - mae: 36.9805\n",
            "Epoch 91/100\n",
            "33/33 [==============================] - 0s 12ms/step - loss: 34.5998 - mae: 35.0933\n",
            "Epoch 92/100\n",
            "33/33 [==============================] - 0s 12ms/step - loss: 39.0184 - mae: 39.5174\n",
            "Epoch 93/100\n",
            "33/33 [==============================] - 0s 12ms/step - loss: 44.5841 - mae: 45.0831\n",
            "Epoch 94/100\n",
            "33/33 [==============================] - 0s 11ms/step - loss: 33.3773 - mae: 33.8742\n",
            "Epoch 95/100\n",
            "33/33 [==============================] - 0s 12ms/step - loss: 31.0514 - mae: 31.5466\n",
            "Epoch 96/100\n",
            "33/33 [==============================] - 0s 12ms/step - loss: 37.6483 - mae: 38.1459\n",
            "Epoch 97/100\n",
            "33/33 [==============================] - 0s 12ms/step - loss: 36.2240 - mae: 36.7210\n",
            "Epoch 98/100\n",
            "33/33 [==============================] - 0s 12ms/step - loss: 25.2761 - mae: 25.7711\n",
            "Epoch 99/100\n",
            "33/33 [==============================] - 0s 13ms/step - loss: 50.1111 - mae: 50.6100\n",
            "Epoch 100/100\n",
            "33/33 [==============================] - 0s 12ms/step - loss: 46.6304 - mae: 47.1282\n"
          ],
          "name": "stdout"
        }
      ]
    },
    {
      "cell_type": "code",
      "metadata": {
        "colab_type": "code",
        "id": "rl_s5X448OJG",
        "outputId": "06a26fa7-aa2c-4f87-81ad-463e4c26c98a",
        "colab": {
          "base_uri": "https://localhost:8080/",
          "height": 290
        }
      },
      "source": [
        "plt.semilogx(history.history[\"lr\"], history.history[\"loss\"])\n",
        "plt.axis([1e-8, 1e-4, 0, 60])"
      ],
      "execution_count": 0,
      "outputs": [
        {
          "output_type": "execute_result",
          "data": {
            "text/plain": [
              "[1e-08, 0.0001, 0, 60]"
            ]
          },
          "metadata": {
            "tags": []
          },
          "execution_count": 13
        },
        {
          "output_type": "display_data",
          "data": {
            "image/png": "[encoded data removed]",
            "text/plain": [
              "<Figure size 432x288 with 1 Axes>"
            ]
          },
          "metadata": {
            "tags": []
          }
        }
      ]
    },
    {
      "cell_type": "code",
      "metadata": {
        "colab_type": "code",
        "id": "Gi3suj8F8OJH",
        "outputId": "47551a86-a849-4f83-e4a5-a6eee2289b1d",
        "colab": {
          "base_uri": "https://localhost:8080/",
          "height": 1000
        }
      },
      "source": [
        "keras.backend.clear_session()\n",
        "tf.random.set_seed(42)\n",
        "np.random.seed(42)\n",
        "\n",
        "window_size = 30\n",
        "train_set = sequential_window_dataset(x_train, window_size)\n",
        "valid_set = sequential_window_dataset(x_valid, window_size)\n",
        "\n",
        "model = keras.models.Sequential([\n",
        "  keras.layers.SimpleRNN(100, return_sequences=True, stateful=True, # Use this function => Stateful = True\n",
        "                         batch_input_shape=[1, None, 1]),   # Use this function => batch_input_shape = [1, None, 1]\n",
        "  keras.layers.SimpleRNN(100, return_sequences=True, stateful=True), # Use this function => Stateful = True\n",
        "  keras.layers.Dense(1),\n",
        "  keras.layers.Lambda(lambda x: x * 200.0)\n",
        "])\n",
        "optimizer = keras.optimizers.SGD(lr=1e-7, momentum=0.9) # now using the right learning rate\n",
        "model.compile(loss=keras.losses.Huber(),\n",
        "              optimizer=optimizer,\n",
        "              metrics=[\"mae\"])\n",
        "reset_states = ResetStatesCallback()\n",
        "model_checkpoint = keras.callbacks.ModelCheckpoint( # checkpoints and early stopping\n",
        "    \"my_checkpoint.h5\", save_best_only=True)\n",
        "early_stopping = keras.callbacks.EarlyStopping(patience=50) # checkpoints and early stopping\n",
        "model.fit(train_set, epochs=500,\n",
        "          validation_data=valid_set,\n",
        "          callbacks=[early_stopping, model_checkpoint, reset_states])"
      ],
      "execution_count": 0,
      "outputs": [
        {
          "output_type": "stream",
          "text": [
            "Epoch 1/500\n",
            "33/33 [==============================] - 2s 52ms/step - loss: 60.2498 - mae: 60.7477 - val_loss: 25.0215 - val_mae: 25.5177\n",
            "Epoch 2/500\n",
            "33/33 [==============================] - 0s 14ms/step - loss: 21.4714 - mae: 21.9618 - val_loss: 10.9142 - val_mae: 11.4074\n",
            "Epoch 3/500\n",
            "33/33 [==============================] - 0s 13ms/step - loss: 18.7249 - mae: 19.2167 - val_loss: 12.0569 - val_mae: 12.5479\n",
            "Epoch 4/500\n",
            "33/33 [==============================] - 0s 14ms/step - loss: 17.5231 - mae: 18.0143 - val_loss: 10.4488 - val_mae: 10.9391\n",
            "Epoch 5/500\n",
            "33/33 [==============================] - 0s 14ms/step - loss: 16.6983 - mae: 17.1891 - val_loss: 9.9581 - val_mae: 10.4499\n",
            "Epoch 6/500\n",
            "33/33 [==============================] - 0s 14ms/step - loss: 15.9090 - mae: 16.3984 - val_loss: 9.1539 - val_mae: 9.6415\n",
            "Epoch 7/500\n",
            "33/33 [==============================] - 0s 14ms/step - loss: 15.2155 - mae: 15.7027 - val_loss: 8.3393 - val_mae: 8.8249\n",
            "Epoch 8/500\n",
            "33/33 [==============================] - 0s 15ms/step - loss: 14.5099 - mae: 14.9961 - val_loss: 7.8259 - val_mae: 8.3123\n",
            "Epoch 9/500\n",
            "33/33 [==============================] - 0s 14ms/step - loss: 13.9258 - mae: 14.4126 - val_loss: 7.3023 - val_mae: 7.7879\n",
            "Epoch 10/500\n",
            "33/33 [==============================] - 0s 14ms/step - loss: 13.4064 - mae: 13.8968 - val_loss: 6.8635 - val_mae: 7.3454\n",
            "Epoch 11/500\n",
            "33/33 [==============================] - 0s 15ms/step - loss: 12.9188 - mae: 13.4082 - val_loss: 6.5419 - val_mae: 7.0255\n",
            "Epoch 12/500\n",
            "33/33 [==============================] - 0s 14ms/step - loss: 12.4920 - mae: 12.9762 - val_loss: 6.3124 - val_mae: 6.7950\n",
            "Epoch 13/500\n",
            "33/33 [==============================] - 0s 15ms/step - loss: 12.1188 - mae: 12.6026 - val_loss: 6.1875 - val_mae: 6.6707\n",
            "Epoch 14/500\n",
            "33/33 [==============================] - 0s 14ms/step - loss: 11.7833 - mae: 12.2670 - val_loss: 6.0323 - val_mae: 6.5165\n",
            "Epoch 15/500\n",
            "33/33 [==============================] - 0s 15ms/step - loss: 11.4779 - mae: 11.9593 - val_loss: 5.9862 - val_mae: 6.4694\n",
            "Epoch 16/500\n",
            "33/33 [==============================] - 0s 14ms/step - loss: 11.1839 - mae: 11.6646 - val_loss: 5.9122 - val_mae: 6.3946\n",
            "Epoch 17/500\n",
            "33/33 [==============================] - 0s 15ms/step - loss: 10.9185 - mae: 11.3992 - val_loss: 5.8466 - val_mae: 6.3273\n",
            "Epoch 18/500\n",
            "33/33 [==============================] - 0s 15ms/step - loss: 10.6848 - mae: 11.1675 - val_loss: 5.7965 - val_mae: 6.2760\n",
            "Epoch 19/500\n",
            "33/33 [==============================] - 1s 16ms/step - loss: 10.4680 - mae: 10.9499 - val_loss: 5.7590 - val_mae: 6.2378\n",
            "Epoch 20/500\n",
            "33/33 [==============================] - 0s 14ms/step - loss: 10.2666 - mae: 10.7485 - val_loss: 5.7192 - val_mae: 6.1963\n",
            "Epoch 21/500\n",
            "33/33 [==============================] - 0s 14ms/step - loss: 10.0846 - mae: 10.5658 - val_loss: 5.7028 - val_mae: 6.1786\n",
            "Epoch 22/500\n",
            "33/33 [==============================] - 0s 15ms/step - loss: 9.9236 - mae: 10.4026 - val_loss: 5.7120 - val_mae: 6.1868\n",
            "Epoch 23/500\n",
            "33/33 [==============================] - 0s 15ms/step - loss: 9.7868 - mae: 10.2649 - val_loss: 5.7474 - val_mae: 6.2220\n",
            "Epoch 24/500\n",
            "33/33 [==============================] - 0s 15ms/step - loss: 9.6725 - mae: 10.1518 - val_loss: 5.8241 - val_mae: 6.3028\n",
            "Epoch 25/500\n",
            "33/33 [==============================] - 0s 15ms/step - loss: 9.5742 - mae: 10.0551 - val_loss: 5.9584 - val_mae: 6.4395\n",
            "Epoch 26/500\n",
            "33/33 [==============================] - 0s 15ms/step - loss: 9.4785 - mae: 9.9604 - val_loss: 6.0588 - val_mae: 6.5404\n",
            "Epoch 27/500\n",
            "33/33 [==============================] - 0s 14ms/step - loss: 9.3864 - mae: 9.8687 - val_loss: 6.1350 - val_mae: 6.6168\n",
            "Epoch 28/500\n",
            "33/33 [==============================] - 0s 15ms/step - loss: 9.3000 - mae: 9.7817 - val_loss: 6.2112 - val_mae: 6.6921\n",
            "Epoch 29/500\n",
            "33/33 [==============================] - 0s 15ms/step - loss: 9.2202 - mae: 9.6999 - val_loss: 6.3077 - val_mae: 6.7891\n",
            "Epoch 30/500\n",
            "33/33 [==============================] - 0s 15ms/step - loss: 9.1452 - mae: 9.6252 - val_loss: 6.4202 - val_mae: 6.9007\n",
            "Epoch 31/500\n",
            "33/33 [==============================] - 0s 14ms/step - loss: 9.0753 - mae: 9.5556 - val_loss: 6.5523 - val_mae: 7.0327\n",
            "Epoch 32/500\n",
            "33/33 [==============================] - 0s 14ms/step - loss: 9.0090 - mae: 9.4910 - val_loss: 6.6860 - val_mae: 7.1655\n",
            "Epoch 33/500\n",
            "33/33 [==============================] - 0s 14ms/step - loss: 8.9432 - mae: 9.4252 - val_loss: 6.8139 - val_mae: 7.2942\n",
            "Epoch 34/500\n",
            "33/33 [==============================] - 0s 14ms/step - loss: 8.8776 - mae: 9.3592 - val_loss: 6.8729 - val_mae: 7.3541\n",
            "Epoch 35/500\n",
            "33/33 [==============================] - 1s 15ms/step - loss: 8.8143 - mae: 9.2940 - val_loss: 6.8389 - val_mae: 7.3182\n",
            "Epoch 36/500\n",
            "33/33 [==============================] - 0s 14ms/step - loss: 8.7465 - mae: 9.2257 - val_loss: 6.7921 - val_mae: 7.2707\n",
            "Epoch 37/500\n",
            "33/33 [==============================] - 0s 14ms/step - loss: 8.6807 - mae: 9.1613 - val_loss: 6.7235 - val_mae: 7.2015\n",
            "Epoch 38/500\n",
            "33/33 [==============================] - 0s 14ms/step - loss: 8.6150 - mae: 9.0962 - val_loss: 6.6948 - val_mae: 7.1732\n",
            "Epoch 39/500\n",
            "33/33 [==============================] - 0s 15ms/step - loss: 8.5511 - mae: 9.0316 - val_loss: 6.6938 - val_mae: 7.1731\n",
            "Epoch 40/500\n",
            "33/33 [==============================] - 0s 15ms/step - loss: 8.4998 - mae: 8.9825 - val_loss: 6.7497 - val_mae: 7.2292\n",
            "Epoch 41/500\n",
            "33/33 [==============================] - 0s 14ms/step - loss: 8.4619 - mae: 8.9458 - val_loss: 6.8581 - val_mae: 7.3382\n",
            "Epoch 42/500\n",
            "33/33 [==============================] - 0s 14ms/step - loss: 8.4213 - mae: 8.9042 - val_loss: 6.9451 - val_mae: 7.4273\n",
            "Epoch 43/500\n",
            "33/33 [==============================] - 0s 15ms/step - loss: 8.3727 - mae: 8.8558 - val_loss: 6.9882 - val_mae: 7.4709\n",
            "Epoch 44/500\n",
            "33/33 [==============================] - 0s 15ms/step - loss: 8.3164 - mae: 8.7984 - val_loss: 6.9493 - val_mae: 7.4307\n",
            "Epoch 45/500\n",
            "33/33 [==============================] - 0s 14ms/step - loss: 8.2595 - mae: 8.7403 - val_loss: 6.8679 - val_mae: 7.3469\n",
            "Epoch 46/500\n",
            "33/33 [==============================] - 0s 14ms/step - loss: 8.2018 - mae: 8.6818 - val_loss: 6.7929 - val_mae: 7.2708\n",
            "Epoch 47/500\n",
            "33/33 [==============================] - 0s 14ms/step - loss: 8.1484 - mae: 8.6291 - val_loss: 6.7779 - val_mae: 7.2560\n",
            "Epoch 48/500\n",
            "33/33 [==============================] - 0s 13ms/step - loss: 8.1042 - mae: 8.5857 - val_loss: 6.8247 - val_mae: 7.3038\n",
            "Epoch 49/500\n",
            "33/33 [==============================] - 0s 14ms/step - loss: 8.0652 - mae: 8.5466 - val_loss: 6.9032 - val_mae: 7.3848\n",
            "Epoch 50/500\n",
            "33/33 [==============================] - 0s 13ms/step - loss: 8.0286 - mae: 8.5106 - val_loss: 6.9969 - val_mae: 7.4815\n",
            "Epoch 51/500\n",
            "33/33 [==============================] - 0s 14ms/step - loss: 7.9923 - mae: 8.4729 - val_loss: 7.0716 - val_mae: 7.5577\n",
            "Epoch 52/500\n",
            "33/33 [==============================] - 0s 14ms/step - loss: 7.9519 - mae: 8.4323 - val_loss: 7.0975 - val_mae: 7.5837\n",
            "Epoch 53/500\n",
            "33/33 [==============================] - 0s 14ms/step - loss: 7.9087 - mae: 8.3885 - val_loss: 7.0848 - val_mae: 7.5709\n",
            "Epoch 54/500\n",
            "33/33 [==============================] - 0s 13ms/step - loss: 7.8640 - mae: 8.3437 - val_loss: 7.0536 - val_mae: 7.5396\n",
            "Epoch 55/500\n",
            "33/33 [==============================] - 0s 14ms/step - loss: 7.8204 - mae: 8.3001 - val_loss: 7.0385 - val_mae: 7.5244\n",
            "Epoch 56/500\n",
            "33/33 [==============================] - 0s 13ms/step - loss: 7.7814 - mae: 8.2608 - val_loss: 7.0592 - val_mae: 7.5455\n",
            "Epoch 57/500\n",
            "33/33 [==============================] - 0s 14ms/step - loss: 7.7475 - mae: 8.2261 - val_loss: 7.1070 - val_mae: 7.5936\n",
            "Epoch 58/500\n",
            "33/33 [==============================] - 0s 14ms/step - loss: 7.7155 - mae: 8.1939 - val_loss: 7.1585 - val_mae: 7.6450\n",
            "Epoch 59/500\n",
            "33/33 [==============================] - 0s 13ms/step - loss: 7.6826 - mae: 8.1608 - val_loss: 7.2046 - val_mae: 7.6912\n",
            "Epoch 60/500\n",
            "33/33 [==============================] - 0s 14ms/step - loss: 7.6470 - mae: 8.1249 - val_loss: 7.2325 - val_mae: 7.7194\n",
            "Epoch 61/500\n",
            "33/33 [==============================] - 0s 13ms/step - loss: 7.6084 - mae: 8.0859 - val_loss: 7.2378 - val_mae: 7.7247\n",
            "Epoch 62/500\n",
            "33/33 [==============================] - 1s 15ms/step - loss: 7.5705 - mae: 8.0485 - val_loss: 7.2325 - val_mae: 7.7192\n",
            "Epoch 63/500\n",
            "33/33 [==============================] - 0s 14ms/step - loss: 7.5344 - mae: 8.0126 - val_loss: 7.2253 - val_mae: 7.7120\n",
            "Epoch 64/500\n",
            "33/33 [==============================] - 0s 13ms/step - loss: 7.5009 - mae: 7.9792 - val_loss: 7.2330 - val_mae: 7.7198\n",
            "Epoch 65/500\n",
            "33/33 [==============================] - 0s 13ms/step - loss: 7.4706 - mae: 7.9490 - val_loss: 7.2639 - val_mae: 7.7507\n",
            "Epoch 66/500\n",
            "33/33 [==============================] - 0s 14ms/step - loss: 7.4424 - mae: 7.9210 - val_loss: 7.3071 - val_mae: 7.7941\n",
            "Epoch 67/500\n",
            "33/33 [==============================] - 0s 13ms/step - loss: 7.4135 - mae: 7.8922 - val_loss: 7.3386 - val_mae: 7.8257\n",
            "Epoch 68/500\n",
            "33/33 [==============================] - 0s 14ms/step - loss: 7.3803 - mae: 7.8593 - val_loss: 7.3363 - val_mae: 7.8234\n",
            "Epoch 69/500\n",
            "33/33 [==============================] - 0s 14ms/step - loss: 7.3444 - mae: 7.8234 - val_loss: 7.3156 - val_mae: 7.8026\n",
            "Epoch 70/500\n",
            "33/33 [==============================] - 0s 14ms/step - loss: 7.3099 - mae: 7.7897 - val_loss: 7.2992 - val_mae: 7.7861\n",
            "Epoch 71/500\n",
            "33/33 [==============================] - 0s 13ms/step - loss: 7.2791 - mae: 7.7590 - val_loss: 7.3036 - val_mae: 7.7905\n"
          ],
          "name": "stdout"
        },
        {
          "output_type": "execute_result",
          "data": {
            "text/plain": [
              "<tensorflow.python.keras.callbacks.History at 0x7fbc2b2af2e8>"
            ]
          },
          "metadata": {
            "tags": []
          },
          "execution_count": 14
        }
      ]
    },
    {
      "cell_type": "code",
      "metadata": {
        "colab_type": "code",
        "id": "lfW42jg-8OJI",
        "colab": {}
      },
      "source": [
        "model = keras.models.load_model(\"my_checkpoint.h5\")"
      ],
      "execution_count": 0,
      "outputs": []
    },
    {
      "cell_type": "code",
      "metadata": {
        "colab_type": "code",
        "id": "JC3XHLxd8OJJ",
        "colab": {}
      },
      "source": [
        "model.reset_states()\n",
        "rnn_forecast = model.predict(series[np.newaxis, :, np.newaxis])\n",
        "rnn_forecast = rnn_forecast[0, split_time - 1:-1, 0]"
      ],
      "execution_count": 0,
      "outputs": []
    },
    {
      "cell_type": "code",
      "metadata": {
        "colab_type": "code",
        "id": "Cwsvi0cxmwBZ",
        "outputId": "7f84d71e-e0f3-4924-94fd-2a1efddd4e34",
        "colab": {
          "base_uri": "https://localhost:8080/",
          "height": 34
        }
      },
      "source": [
        "rnn_forecast.shape"
      ],
      "execution_count": 0,
      "outputs": [
        {
          "output_type": "execute_result",
          "data": {
            "text/plain": [
              "(461,)"
            ]
          },
          "metadata": {
            "tags": []
          },
          "execution_count": 17
        }
      ]
    },
    {
      "cell_type": "code",
      "metadata": {
        "colab_type": "code",
        "id": "s6eZmrn48OJK",
        "outputId": "7e4c4614-5c8d-46d9-8c47-b8884c12882f",
        "colab": {
          "base_uri": "https://localhost:8080/",
          "height": 388
        }
      },
      "source": [
        "plt.figure(figsize=(10, 6))\n",
        "plot_series(time_valid, x_valid)\n",
        "plot_series(time_valid, rnn_forecast)"
      ],
      "execution_count": 0,
      "outputs": [
        {
          "output_type": "display_data",
          "data": {
            "image/png": "[encoded data removed]",
            "text/plain": [
              "<Figure size 720x432 with 1 Axes>"
            ]
          },
          "metadata": {
            "tags": []
          }
        }
      ]
    },
    {
      "cell_type": "code",
      "metadata": {
        "colab_type": "code",
        "id": "8z6Py2Lx8OJL",
        "outputId": "b892d12b-0e08-4a7a-ccab-acdf0578e659",
        "colab": {
          "base_uri": "https://localhost:8080/",
          "height": 34
        }
      },
      "source": [
        "keras.metrics.mean_absolute_error(x_valid, rnn_forecast).numpy()"
      ],
      "execution_count": 0,
      "outputs": [
        {
          "output_type": "execute_result",
          "data": {
            "text/plain": [
              "6.2778196"
            ]
          },
          "metadata": {
            "tags": []
          },
          "execution_count": 19
        }
      ]
    },
    {
      "cell_type": "code",
      "metadata": {
        "colab_type": "code",
        "id": "k_wuJRj0kUOL",
        "colab": {}
      },
      "source": [
        ""
      ],
      "execution_count": 0,
      "outputs": []
    }
  ]
}